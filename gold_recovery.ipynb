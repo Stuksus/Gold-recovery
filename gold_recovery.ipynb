{
 "cells": [
  {
   "cell_type": "markdown",
   "metadata": {
    "toc": true
   },
   "source": [
    "<h1>Содержание<span class=\"tocSkip\"></span></h1>\n",
    "<div class=\"toc\"><ul class=\"toc-item\"><li><span><a href=\"#Описание-проекта\" data-toc-modified-id=\"Описание-проекта-1\"><span class=\"toc-item-num\">1&nbsp;&nbsp;</span>Описание проекта</a></span></li><li><span><a href=\"#Импортирование-необходимых-библиотек\" data-toc-modified-id=\"Импортирование-необходимых-библиотек-2\"><span class=\"toc-item-num\">2&nbsp;&nbsp;</span>Импортирование необходимых библиотек</a></span></li><li><span><a href=\"#Подготовка-данных\" data-toc-modified-id=\"Подготовка-данных-3\"><span class=\"toc-item-num\">3&nbsp;&nbsp;</span>Подготовка данных</a></span><ul class=\"toc-item\"><li><span><a href=\"#Проверим-корректность-расчета-параметра-recovery\" data-toc-modified-id=\"Проверим-корректность-расчета-параметра-recovery-3.1\"><span class=\"toc-item-num\">3.1&nbsp;&nbsp;</span>Проверим корректность расчета параметра recovery</a></span><ul class=\"toc-item\"><li><span><a href=\"#Вывод\" data-toc-modified-id=\"Вывод-3.1.1\"><span class=\"toc-item-num\">3.1.1&nbsp;&nbsp;</span>Вывод</a></span></li></ul></li><li><span><a href=\"#Найдем-все-столбцы,-которые-есть-в-тренировочной-выборке,-но-нет-в-тестовой\" data-toc-modified-id=\"Найдем-все-столбцы,-которые-есть-в-тренировочной-выборке,-но-нет-в-тестовой-3.2\"><span class=\"toc-item-num\">3.2&nbsp;&nbsp;</span>Найдем все столбцы, которые есть в тренировочной выборке, но нет в тестовой</a></span><ul class=\"toc-item\"><li><span><a href=\"#Более-подробно-изучим-найденные-столбцы\" data-toc-modified-id=\"Более-подробно-изучим-найденные-столбцы-3.2.1\"><span class=\"toc-item-num\">3.2.1&nbsp;&nbsp;</span>Более подробно изучим найденные столбцы</a></span></li><li><span><a href=\"#Выводы\" data-toc-modified-id=\"Выводы-3.2.2\"><span class=\"toc-item-num\">3.2.2&nbsp;&nbsp;</span>Выводы</a></span></li></ul></li><li><span><a href=\"#Проверим-возможность-восстановления--параметра-recovery\" data-toc-modified-id=\"Проверим-возможность-восстановления--параметра-recovery-3.3\"><span class=\"toc-item-num\">3.3&nbsp;&nbsp;</span>Проверим возможность восстановления  параметра recovery</a></span></li><li><span><a href=\"#Обработаем-пропуски\" data-toc-modified-id=\"Обработаем-пропуски-3.4\"><span class=\"toc-item-num\">3.4&nbsp;&nbsp;</span>Обработаем пропуски</a></span></li></ul></li><li><span><a href=\"#Анализ-данных\" data-toc-modified-id=\"Анализ-данных-4\"><span class=\"toc-item-num\">4&nbsp;&nbsp;</span>Анализ данных</a></span><ul class=\"toc-item\"><li><span><a href=\"#Расчет-концентрации-металлов-на-разных-этапах\" data-toc-modified-id=\"Расчет-концентрации-металлов-на-разных-этапах-4.1\"><span class=\"toc-item-num\">4.1&nbsp;&nbsp;</span>Расчет концентрации металлов на разных этапах</a></span></li><li><span><a href=\"#График-распределения-размера-гранул\" data-toc-modified-id=\"График-распределения-размера-гранул-4.2\"><span class=\"toc-item-num\">4.2&nbsp;&nbsp;</span>График распределения размера гранул</a></span></li><li><span><a href=\"#Расчет-суммарной-концентрации\" data-toc-modified-id=\"Расчет-суммарной-концентрации-4.3\"><span class=\"toc-item-num\">4.3&nbsp;&nbsp;</span>Расчет суммарной концентрации</a></span></li><li><span><a href=\"#Удаление-выбросов\" data-toc-modified-id=\"Удаление-выбросов-4.4\"><span class=\"toc-item-num\">4.4&nbsp;&nbsp;</span>Удаление выбросов</a></span></li><li><span><a href=\"#График-суммарной-концентрации-после-удаления-выбросов\" data-toc-modified-id=\"График-суммарной-концентрации-после-удаления-выбросов-4.5\"><span class=\"toc-item-num\">4.5&nbsp;&nbsp;</span>График суммарной концентрации после удаления выбросов</a></span></li></ul></li><li><span><a href=\"#Модель\" data-toc-modified-id=\"Модель-5\"><span class=\"toc-item-num\">5&nbsp;&nbsp;</span>Модель</a></span><ul class=\"toc-item\"><li><span><a href=\"#Метрики\" data-toc-modified-id=\"Метрики-5.1\"><span class=\"toc-item-num\">5.1&nbsp;&nbsp;</span>Метрики</a></span></li><li><span><a href=\"#Инициализация-pipeline\" data-toc-modified-id=\"Инициализация-pipeline-5.2\"><span class=\"toc-item-num\">5.2&nbsp;&nbsp;</span>Инициализация pipeline</a></span></li><li><span><a href=\"#Обучение\" data-toc-modified-id=\"Обучение-5.3\"><span class=\"toc-item-num\">5.3&nbsp;&nbsp;</span>Обучение</a></span></li><li><span><a href=\"#Лучшие-результаты-на-тренировочной-выборке\" data-toc-modified-id=\"Лучшие-результаты-на-тренировочной-выборке-5.4\"><span class=\"toc-item-num\">5.4&nbsp;&nbsp;</span>Лучшие результаты на тренировочной выборке</a></span></li><li><span><a href=\"#Финальная-ошибка-на-тестовой-выборке\" data-toc-modified-id=\"Финальная-ошибка-на-тестовой-выборке-5.5\"><span class=\"toc-item-num\">5.5&nbsp;&nbsp;</span>Финальная ошибка на тестовой выборке</a></span></li><li><span><a href=\"#Инициализируем-и-обучим-константную-модель\" data-toc-modified-id=\"Инициализируем-и-обучим-константную-модель-5.6\"><span class=\"toc-item-num\">5.6&nbsp;&nbsp;</span>Инициализируем и обучим константную модель</a></span></li><li><span><a href=\"#Вывод-после-сравнения-результатов\" data-toc-modified-id=\"Вывод-после-сравнения-результатов-5.7\"><span class=\"toc-item-num\">5.7&nbsp;&nbsp;</span>Вывод после сравнения результатов</a></span></li></ul></li><li><span><a href=\"#Вывод\" data-toc-modified-id=\"Вывод-6\"><span class=\"toc-item-num\">6&nbsp;&nbsp;</span>Вывод</a></span></li></ul></div>"
   ]
  },
  {
   "cell_type": "markdown",
   "metadata": {
    "id": "fVj9vOPMxI69"
   },
   "source": [
    "# Описание проекта\n",
    "\n",
    "Подготовьте прототип модели машинного обучения для «Цифры». Компания разрабатывает решения для эффективной работы промышленных предприятий.\n",
    "\n",
    "Модель должна предсказать коэффициент восстановления золота из золотосодержащей руды. В вашем распоряжении данные с параметрами добычи и очистки. \n",
    "\n",
    "Модель поможет оптимизировать производство, чтобы не запускать предприятие с убыточными характеристиками.\n",
    "\n",
    "Вам нужно:\n",
    "\n",
    "1. Подготовить данные;\n",
    "2. Провести исследовательский анализ данных;\n",
    "3. Построить и обучить модель.\n",
    "\n",
    "Чтобы выполнить проект, обращайтесь к библиотекам *pandas*, *matplotlib* и *sklearn.* Вам поможет их документация."
   ]
  },
  {
   "cell_type": "markdown",
   "metadata": {
    "id": "gpLuRsMfxI7C"
   },
   "source": [
    "# Импортирование необходимых библиотек\n"
   ]
  },
  {
   "cell_type": "code",
   "execution_count": 1,
   "metadata": {
    "ExecuteTime": {
     "end_time": "2021-01-13T13:25:55.146459Z",
     "start_time": "2021-01-13T13:25:53.512484Z"
    },
    "id": "LrM3qYU1xI7F"
   },
   "outputs": [],
   "source": [
    "import numpy as np\n",
    "import pandas as pd\n",
    "\n",
    "from sklearn.metrics import mean_absolute_error as MAE\n",
    "from sklearn.pipeline import  make_pipeline\n",
    "from sklearn.impute import KNNImputer\n",
    "from sklearn.ensemble import RandomForestRegressor\n",
    "from sklearn.preprocessing import StandardScaler\n",
    "from sklearn.model_selection import cross_val_score\n",
    "from sklearn.model_selection import GridSearchCV\n",
    "from sklearn.preprocessing import PolynomialFeatures\n",
    "from sklearn.linear_model import LinearRegression\n",
    "from sklearn.tree import DecisionTreeRegressor\n",
    "import matplotlib.pyplot as plt\n",
    "from sklearn.metrics import make_scorer\n",
    "from sklearn.dummy import DummyRegressor\n",
    "import seaborn as sns\n",
    "\n",
    "import warnings\n",
    "warnings.simplefilter(action='ignore', category=FutureWarning)"
   ]
  },
  {
   "cell_type": "markdown",
   "metadata": {
    "id": "1w1k9D-RxI7R"
   },
   "source": [
    "#  Подготовка данных"
   ]
  },
  {
   "cell_type": "code",
   "execution_count": 2,
   "metadata": {
    "ExecuteTime": {
     "end_time": "2021-01-13T13:25:55.773939Z",
     "start_time": "2021-01-13T13:25:55.147888Z"
    },
    "id": "M-kqvN_8xI7T"
   },
   "outputs": [],
   "source": [
    "test_frame = pd.read_csv(\"gold_recovery_test.csv\")\n",
    "train_frame = pd.read_csv(\"gold_recovery_train.csv\")\n",
    "full_frame = pd.read_csv(\"gold_recovery_full.csv\")"
   ]
  },
  {
   "cell_type": "code",
   "execution_count": 3,
   "metadata": {
    "ExecuteTime": {
     "end_time": "2021-01-13T13:25:55.798556Z",
     "start_time": "2021-01-13T13:25:55.775779Z"
    },
    "id": "lCWCuBkwxI7o"
   },
   "outputs": [],
   "source": [
    "train_frame = train_frame.replace(float(\"-inf\"),np.nan)\n",
    "test_frame = test_frame.replace(float(\"-inf\"),np.nan)"
   ]
  },
  {
   "cell_type": "code",
   "execution_count": 4,
   "metadata": {
    "ExecuteTime": {
     "end_time": "2021-01-13T13:25:55.815410Z",
     "start_time": "2021-01-13T13:25:55.800114Z"
    },
    "colab": {
     "base_uri": "https://localhost:8080/"
    },
    "id": "j7_7Gu-ZxI7x",
    "outputId": "b55bff41-8ae0-4ee1-f172-e1797fb21a6a",
    "scrolled": true
   },
   "outputs": [
    {
     "name": "stdout",
     "output_type": "stream",
     "text": [
      "<class 'pandas.core.frame.DataFrame'>\n",
      "RangeIndex: 16860 entries, 0 to 16859\n",
      "Data columns (total 87 columns):\n",
      " #   Column                                              Non-Null Count  Dtype  \n",
      "---  ------                                              --------------  -----  \n",
      " 0   date                                                16860 non-null  object \n",
      " 1   final.output.concentrate_ag                         16788 non-null  float64\n",
      " 2   final.output.concentrate_pb                         16788 non-null  float64\n",
      " 3   final.output.concentrate_sol                        16490 non-null  float64\n",
      " 4   final.output.concentrate_au                         16789 non-null  float64\n",
      " 5   final.output.recovery                               15339 non-null  float64\n",
      " 6   final.output.tail_ag                                16794 non-null  float64\n",
      " 7   final.output.tail_pb                                16677 non-null  float64\n",
      " 8   final.output.tail_sol                               16715 non-null  float64\n",
      " 9   final.output.tail_au                                16794 non-null  float64\n",
      " 10  primary_cleaner.input.sulfate                       15553 non-null  float64\n",
      " 11  primary_cleaner.input.depressant                    15598 non-null  float64\n",
      " 12  primary_cleaner.input.feed_size                     16860 non-null  float64\n",
      " 13  primary_cleaner.input.xanthate                      15875 non-null  float64\n",
      " 14  primary_cleaner.output.concentrate_ag               16778 non-null  float64\n",
      " 15  primary_cleaner.output.concentrate_pb               16502 non-null  float64\n",
      " 16  primary_cleaner.output.concentrate_sol              16224 non-null  float64\n",
      " 17  primary_cleaner.output.concentrate_au               16778 non-null  float64\n",
      " 18  primary_cleaner.output.tail_ag                      16777 non-null  float64\n",
      " 19  primary_cleaner.output.tail_pb                      16761 non-null  float64\n",
      " 20  primary_cleaner.output.tail_sol                     16579 non-null  float64\n",
      " 21  primary_cleaner.output.tail_au                      16777 non-null  float64\n",
      " 22  primary_cleaner.state.floatbank8_a_air              16820 non-null  float64\n",
      " 23  primary_cleaner.state.floatbank8_a_level            16827 non-null  float64\n",
      " 24  primary_cleaner.state.floatbank8_b_air              16820 non-null  float64\n",
      " 25  primary_cleaner.state.floatbank8_b_level            16833 non-null  float64\n",
      " 26  primary_cleaner.state.floatbank8_c_air              16822 non-null  float64\n",
      " 27  primary_cleaner.state.floatbank8_c_level            16833 non-null  float64\n",
      " 28  primary_cleaner.state.floatbank8_d_air              16821 non-null  float64\n",
      " 29  primary_cleaner.state.floatbank8_d_level            16833 non-null  float64\n",
      " 30  rougher.calculation.sulfate_to_au_concentrate       16833 non-null  float64\n",
      " 31  rougher.calculation.floatbank10_sulfate_to_au_feed  16833 non-null  float64\n",
      " 32  rougher.calculation.floatbank11_sulfate_to_au_feed  16833 non-null  float64\n",
      " 33  rougher.calculation.au_pb_ratio                     15618 non-null  float64\n",
      " 34  rougher.input.feed_ag                               16778 non-null  float64\n",
      " 35  rougher.input.feed_pb                               16632 non-null  float64\n",
      " 36  rougher.input.feed_rate                             16347 non-null  float64\n",
      " 37  rougher.input.feed_size                             16443 non-null  float64\n",
      " 38  rougher.input.feed_sol                              16568 non-null  float64\n",
      " 39  rougher.input.feed_au                               16777 non-null  float64\n",
      " 40  rougher.input.floatbank10_sulfate                   15816 non-null  float64\n",
      " 41  rougher.input.floatbank10_xanthate                  16514 non-null  float64\n",
      " 42  rougher.input.floatbank11_sulfate                   16237 non-null  float64\n",
      " 43  rougher.input.floatbank11_xanthate                  14956 non-null  float64\n",
      " 44  rougher.output.concentrate_ag                       16778 non-null  float64\n",
      " 45  rougher.output.concentrate_pb                       16778 non-null  float64\n",
      " 46  rougher.output.concentrate_sol                      16698 non-null  float64\n",
      " 47  rougher.output.concentrate_au                       16778 non-null  float64\n",
      " 48  rougher.output.recovery                             14287 non-null  float64\n",
      " 49  rougher.output.tail_ag                              14610 non-null  float64\n",
      " 50  rougher.output.tail_pb                              16778 non-null  float64\n",
      " 51  rougher.output.tail_sol                             14611 non-null  float64\n",
      " 52  rougher.output.tail_au                              14611 non-null  float64\n",
      " 53  rougher.state.floatbank10_a_air                     16807 non-null  float64\n",
      " 54  rougher.state.floatbank10_a_level                   16807 non-null  float64\n",
      " 55  rougher.state.floatbank10_b_air                     16807 non-null  float64\n",
      " 56  rougher.state.floatbank10_b_level                   16807 non-null  float64\n",
      " 57  rougher.state.floatbank10_c_air                     16807 non-null  float64\n",
      " 58  rougher.state.floatbank10_c_level                   16814 non-null  float64\n",
      " 59  rougher.state.floatbank10_d_air                     16802 non-null  float64\n",
      " 60  rougher.state.floatbank10_d_level                   16809 non-null  float64\n",
      " 61  rougher.state.floatbank10_e_air                     16257 non-null  float64\n",
      " 62  rougher.state.floatbank10_e_level                   16809 non-null  float64\n",
      " 63  rougher.state.floatbank10_f_air                     16802 non-null  float64\n",
      " 64  rougher.state.floatbank10_f_level                   16802 non-null  float64\n",
      " 65  secondary_cleaner.output.tail_ag                    16776 non-null  float64\n",
      " 66  secondary_cleaner.output.tail_pb                    16764 non-null  float64\n",
      " 67  secondary_cleaner.output.tail_sol                   14874 non-null  float64\n",
      " 68  secondary_cleaner.output.tail_au                    16778 non-null  float64\n",
      " 69  secondary_cleaner.state.floatbank2_a_air            16497 non-null  float64\n",
      " 70  secondary_cleaner.state.floatbank2_a_level          16751 non-null  float64\n",
      " 71  secondary_cleaner.state.floatbank2_b_air            16705 non-null  float64\n",
      " 72  secondary_cleaner.state.floatbank2_b_level          16748 non-null  float64\n",
      " 73  secondary_cleaner.state.floatbank3_a_air            16763 non-null  float64\n",
      " 74  secondary_cleaner.state.floatbank3_a_level          16747 non-null  float64\n",
      " 75  secondary_cleaner.state.floatbank3_b_air            16752 non-null  float64\n",
      " 76  secondary_cleaner.state.floatbank3_b_level          16750 non-null  float64\n",
      " 77  secondary_cleaner.state.floatbank4_a_air            16731 non-null  float64\n",
      " 78  secondary_cleaner.state.floatbank4_a_level          16747 non-null  float64\n",
      " 79  secondary_cleaner.state.floatbank4_b_air            16768 non-null  float64\n",
      " 80  secondary_cleaner.state.floatbank4_b_level          16767 non-null  float64\n",
      " 81  secondary_cleaner.state.floatbank5_a_air            16775 non-null  float64\n",
      " 82  secondary_cleaner.state.floatbank5_a_level          16775 non-null  float64\n",
      " 83  secondary_cleaner.state.floatbank5_b_air            16775 non-null  float64\n",
      " 84  secondary_cleaner.state.floatbank5_b_level          16776 non-null  float64\n",
      " 85  secondary_cleaner.state.floatbank6_a_air            16757 non-null  float64\n",
      " 86  secondary_cleaner.state.floatbank6_a_level          16775 non-null  float64\n",
      "dtypes: float64(86), object(1)\n",
      "memory usage: 11.2+ MB\n"
     ]
    }
   ],
   "source": [
    "train_frame.info()"
   ]
  },
  {
   "cell_type": "markdown",
   "metadata": {},
   "source": [
    "## Проверим корректность расчета параметра recovery"
   ]
  },
  {
   "cell_type": "code",
   "execution_count": 5,
   "metadata": {
    "ExecuteTime": {
     "end_time": "2021-01-13T13:25:55.819129Z",
     "start_time": "2021-01-13T13:25:55.816698Z"
    },
    "id": "rBTFH4QCxI77"
   },
   "outputs": [],
   "source": [
    "def apply_recovery(row):\n",
    "    (input_au,\n",
    "     output_au,\n",
    "     output_tail) = (row[\"rougher.input.feed_au\"],\n",
    "                     row[\"rougher.output.concentrate_au\"],\n",
    "                     row[\"rougher.output.tail_au\"])\n",
    "    recovery_metric = (((output_au) * ((input_au) - (output_tail)))/\n",
    "                       (((input_au) * ((output_au) - (output_tail))))) * 100\n",
    "    return recovery_metric"
   ]
  },
  {
   "cell_type": "code",
   "execution_count": 6,
   "metadata": {
    "ExecuteTime": {
     "end_time": "2021-01-13T13:25:56.035135Z",
     "start_time": "2021-01-13T13:25:55.820285Z"
    },
    "id": "Pe9348ikxI8J"
   },
   "outputs": [],
   "source": [
    "test = train_frame.dropna(subset = [\"rougher.input.feed_au\",\n",
    "                                    \"rougher.output.concentrate_au\",\n",
    "                                    \"rougher.output.tail_au\",\n",
    "                                    \"rougher.output.recovery\"],axis = 0).apply(\n",
    "                                                                        apply_recovery,axis = 1)"
   ]
  },
  {
   "cell_type": "code",
   "execution_count": 7,
   "metadata": {
    "ExecuteTime": {
     "end_time": "2021-01-13T13:25:56.047078Z",
     "start_time": "2021-01-13T13:25:56.036291Z"
    },
    "colab": {
     "base_uri": "https://localhost:8080/"
    },
    "id": "aeJIn85gxI8T",
    "outputId": "34c738e8-f765-4631-8a61-abad7e737726",
    "scrolled": true
   },
   "outputs": [
    {
     "data": {
      "text/plain": [
       "9.444891926100695e-15"
      ]
     },
     "execution_count": 7,
     "metadata": {},
     "output_type": "execute_result"
    }
   ],
   "source": [
    "MAE(train_frame.dropna(subset = [\"rougher.input.feed_au\",\n",
    "                                    \"rougher.output.concentrate_au\",\n",
    "                                    \"rougher.output.tail_au\",\n",
    "                                    \"rougher.output.recovery\"])[\"rougher.output.recovery\"],\n",
    "                       test)"
   ]
  },
  {
   "cell_type": "markdown",
   "metadata": {},
   "source": [
    "### Вывод\n",
    "\n",
    "Параметр recovery в train рассчитаны верно "
   ]
  },
  {
   "cell_type": "markdown",
   "metadata": {},
   "source": [
    "## Найдем все столбцы, которые есть в тренировочной выборке, но нет в тестовой"
   ]
  },
  {
   "cell_type": "code",
   "execution_count": 8,
   "metadata": {
    "ExecuteTime": {
     "end_time": "2021-01-13T13:25:56.057035Z",
     "start_time": "2021-01-13T13:25:56.049793Z"
    },
    "id": "PZNJKJ6UxI8e",
    "scrolled": true
   },
   "outputs": [],
   "source": [
    "import collections\n",
    "step = collections.Counter()\n",
    "type_step = collections.Counter()\n",
    "data = collections.Counter()\n",
    "list_columns = [i for i in train_frame.columns if i not in test_frame.columns]\n",
    "for i in list_columns:\n",
    "    words = list(map(str,i.split(\".\")))\n",
    "    step[words[0]] += 1\n",
    "    type_step[words[1]] += 1\n",
    "    data[words[2]] += 1\n",
    "    "
   ]
  },
  {
   "cell_type": "code",
   "execution_count": 9,
   "metadata": {
    "ExecuteTime": {
     "end_time": "2021-01-13T13:25:56.064532Z",
     "start_time": "2021-01-13T13:25:56.061829Z"
    },
    "colab": {
     "base_uri": "https://localhost:8080/"
    },
    "id": "AhJ0KmfRxI8m",
    "outputId": "a17d149e-35ed-4354-d4bd-d23de18b5d1d",
    "scrolled": false
   },
   "outputs": [
    {
     "data": {
      "text/plain": [
       "['final.output.concentrate_ag',\n",
       " 'final.output.concentrate_pb',\n",
       " 'final.output.concentrate_sol',\n",
       " 'final.output.concentrate_au',\n",
       " 'final.output.recovery',\n",
       " 'final.output.tail_ag',\n",
       " 'final.output.tail_pb',\n",
       " 'final.output.tail_sol',\n",
       " 'final.output.tail_au',\n",
       " 'primary_cleaner.output.concentrate_ag',\n",
       " 'primary_cleaner.output.concentrate_pb',\n",
       " 'primary_cleaner.output.concentrate_sol',\n",
       " 'primary_cleaner.output.concentrate_au',\n",
       " 'primary_cleaner.output.tail_ag',\n",
       " 'primary_cleaner.output.tail_pb',\n",
       " 'primary_cleaner.output.tail_sol',\n",
       " 'primary_cleaner.output.tail_au',\n",
       " 'rougher.calculation.sulfate_to_au_concentrate',\n",
       " 'rougher.calculation.floatbank10_sulfate_to_au_feed',\n",
       " 'rougher.calculation.floatbank11_sulfate_to_au_feed',\n",
       " 'rougher.calculation.au_pb_ratio',\n",
       " 'rougher.output.concentrate_ag',\n",
       " 'rougher.output.concentrate_pb',\n",
       " 'rougher.output.concentrate_sol',\n",
       " 'rougher.output.concentrate_au',\n",
       " 'rougher.output.recovery',\n",
       " 'rougher.output.tail_ag',\n",
       " 'rougher.output.tail_pb',\n",
       " 'rougher.output.tail_sol',\n",
       " 'rougher.output.tail_au',\n",
       " 'secondary_cleaner.output.tail_ag',\n",
       " 'secondary_cleaner.output.tail_pb',\n",
       " 'secondary_cleaner.output.tail_sol',\n",
       " 'secondary_cleaner.output.tail_au']"
      ]
     },
     "execution_count": 9,
     "metadata": {},
     "output_type": "execute_result"
    }
   ],
   "source": [
    "list_columns"
   ]
  },
  {
   "cell_type": "markdown",
   "metadata": {},
   "source": [
    "### Более подробно изучим найденные столбцы"
   ]
  },
  {
   "cell_type": "code",
   "execution_count": 10,
   "metadata": {
    "ExecuteTime": {
     "end_time": "2021-01-13T13:25:56.068801Z",
     "start_time": "2021-01-13T13:25:56.065783Z"
    },
    "colab": {
     "base_uri": "https://localhost:8080/"
    },
    "id": "EnHfaP0cxI8v",
    "outputId": "9abee4db-e557-4392-ecd7-e085a6b10f9e",
    "scrolled": false
   },
   "outputs": [
    {
     "data": {
      "text/plain": [
       "(Counter({'final': 9,\n",
       "          'primary_cleaner': 8,\n",
       "          'rougher': 13,\n",
       "          'secondary_cleaner': 4}),\n",
       " '\\n',\n",
       " Counter({'output': 30, 'calculation': 4}),\n",
       " '\\n',\n",
       " Counter({'concentrate_ag': 3,\n",
       "          'concentrate_pb': 3,\n",
       "          'concentrate_sol': 3,\n",
       "          'concentrate_au': 3,\n",
       "          'recovery': 2,\n",
       "          'tail_ag': 4,\n",
       "          'tail_pb': 4,\n",
       "          'tail_sol': 4,\n",
       "          'tail_au': 4,\n",
       "          'sulfate_to_au_concentrate': 1,\n",
       "          'floatbank10_sulfate_to_au_feed': 1,\n",
       "          'floatbank11_sulfate_to_au_feed': 1,\n",
       "          'au_pb_ratio': 1}))"
      ]
     },
     "execution_count": 10,
     "metadata": {},
     "output_type": "execute_result"
    }
   ],
   "source": [
    "step,\"\\n\",type_step,\"\\n\",data"
   ]
  },
  {
   "cell_type": "markdown",
   "metadata": {},
   "source": [
    "### Выводы"
   ]
  },
  {
   "cell_type": "markdown",
   "metadata": {
    "id": "8aCJ-qeKxI83"
   },
   "source": [
    "Заметим, что из 34 пропущенных признака 30 относятся к параметрам продукта и только 4 к расчетным характеристикам  \n",
    "\n",
    "1. 9 пропущенных признаков этапа final, 8 primary_cleaner, 9 rougher, 4 secondary_cleaner относятся к параметрам продукта\n",
    "1. 4 пропущенных признака этапа rougher относятся к расчетным характеристикам\n",
    "1. На всех этапах отсутствует информация о хвостовых частях\n",
    "1. Во всех этапах, кроме повторной очистки отсутствует информация о доле металлов \n",
    "1. У финального этапа и этапа флотации отсутствуют признаки обогащения\n",
    "1. Так же отсутствуют данные о некоторых реагентах на этапе флотации\n"
   ]
  },
  {
   "cell_type": "markdown",
   "metadata": {
    "id": "gFeYtvWRxI85"
   },
   "source": [
    "## Проверим возможность восстановления  параметра recovery"
   ]
  },
  {
   "cell_type": "code",
   "execution_count": 11,
   "metadata": {
    "ExecuteTime": {
     "end_time": "2021-01-13T13:25:56.078505Z",
     "start_time": "2021-01-13T13:25:56.070149Z"
    }
   },
   "outputs": [],
   "source": [
    "train_frame = train_frame.dropna(subset=[\"rougher.output.recovery\",\"final.output.recovery\"],axis = 0)"
   ]
  },
  {
   "cell_type": "markdown",
   "metadata": {},
   "source": [
    "## Обработаем пропуски"
   ]
  },
  {
   "cell_type": "code",
   "execution_count": 12,
   "metadata": {
    "ExecuteTime": {
     "end_time": "2021-01-13T13:26:06.722319Z",
     "start_time": "2021-01-13T13:25:56.079609Z"
    },
    "id": "-uCNAp7OxI9N"
   },
   "outputs": [],
   "source": [
    "imputer = KNNImputer()\n",
    "without_nan = pd.DataFrame(data = imputer.fit_transform(train_frame.drop(['date'],axis = 1)),\n",
    "             columns= train_frame.drop(['date'],axis = 1).columns,\n",
    "             index = train_frame.index)"
   ]
  },
  {
   "cell_type": "code",
   "execution_count": 13,
   "metadata": {
    "ExecuteTime": {
     "end_time": "2021-01-13T13:26:06.731939Z",
     "start_time": "2021-01-13T13:26:06.723586Z"
    }
   },
   "outputs": [],
   "source": [
    "test_frame = test_frame.dropna(subset= ['date'],axis = 0)"
   ]
  },
  {
   "cell_type": "code",
   "execution_count": 14,
   "metadata": {
    "ExecuteTime": {
     "end_time": "2021-01-13T13:26:06.746180Z",
     "start_time": "2021-01-13T13:26:06.733023Z"
    }
   },
   "outputs": [],
   "source": [
    "test_frame_for_target = test_frame.merge(full_frame.loc[:,['date',\"rougher.output.recovery\",\"final.output.recovery\"]],on = 'date')"
   ]
  },
  {
   "cell_type": "code",
   "execution_count": 15,
   "metadata": {
    "ExecuteTime": {
     "end_time": "2021-01-13T13:26:06.754919Z",
     "start_time": "2021-01-13T13:26:06.747563Z"
    }
   },
   "outputs": [],
   "source": [
    "test_frame_for_target = test_frame_for_target.dropna(subset=[\"rougher.output.recovery\",\"final.output.recovery\"],axis = 0)"
   ]
  },
  {
   "cell_type": "code",
   "execution_count": 16,
   "metadata": {
    "ExecuteTime": {
     "end_time": "2021-01-13T13:26:06.758937Z",
     "start_time": "2021-01-13T13:26:06.756099Z"
    }
   },
   "outputs": [],
   "source": [
    "test_frame = test_frame_for_target.loc[:,test_frame.columns]"
   ]
  },
  {
   "cell_type": "code",
   "execution_count": 17,
   "metadata": {
    "ExecuteTime": {
     "end_time": "2021-01-13T13:26:06.763077Z",
     "start_time": "2021-01-13T13:26:06.760284Z"
    }
   },
   "outputs": [],
   "source": [
    "target_test_rougher = test_frame_for_target[\"rougher.output.recovery\"]\n",
    "target_test_final = test_frame_for_target[\"final.output.recovery\"]"
   ]
  },
  {
   "cell_type": "code",
   "execution_count": 18,
   "metadata": {
    "ExecuteTime": {
     "end_time": "2021-01-13T13:26:06.767326Z",
     "start_time": "2021-01-13T13:26:06.764609Z"
    }
   },
   "outputs": [],
   "source": [
    "test_frame = test_frame.drop(\"date\",axis =1)"
   ]
  },
  {
   "cell_type": "code",
   "execution_count": 19,
   "metadata": {
    "ExecuteTime": {
     "end_time": "2021-01-13T13:26:06.811693Z",
     "start_time": "2021-01-13T13:26:06.768617Z"
    }
   },
   "outputs": [],
   "source": [
    "imputer_test = KNNImputer()\n",
    "test_without_nan = pd.DataFrame(data = imputer_test.fit_transform(test_frame),\n",
    "             columns= test_frame.columns,\n",
    "             index = test_frame.index)"
   ]
  },
  {
   "cell_type": "markdown",
   "metadata": {
    "id": "YACoKLSYxI9t"
   },
   "source": [
    "#  Анализ данных"
   ]
  },
  {
   "cell_type": "markdown",
   "metadata": {},
   "source": [
    "## Расчет концентрации металлов на разных этапах"
   ]
  },
  {
   "cell_type": "code",
   "execution_count": 20,
   "metadata": {
    "ExecuteTime": {
     "end_time": "2021-01-13T13:26:06.822878Z",
     "start_time": "2021-01-13T13:26:06.813503Z"
    },
    "colab": {
     "base_uri": "https://localhost:8080/"
    },
    "id": "L30YDvIlxI9u",
    "outputId": "a146e5d3-997f-49ca-8b37-41f0e1526a15",
    "scrolled": true
   },
   "outputs": [
    {
     "name": "stdout",
     "output_type": "stream",
     "text": [
      "Концентрация до флотации\n",
      "Концентрация Серебра: 8.58,Свинца: 3.52,Золота: 7.87\n",
      "\n",
      "Концентрация после флотации\n",
      "Коцентрация Серебра: 11.78,Свинца: 7.66,Золота: 19.44\n",
      "\n",
      "Концентрация после первичной очистки\n",
      "Концентрация Серебра: 8.20,Свинца: 9.58,Золота: 32.39\n",
      "\n",
      "Концентрация поле вторичной очистки\n",
      "Концентрация Серебра: 5.14,Свинца: 10.13,Золота: 44.00\n"
     ]
    }
   ],
   "source": [
    "print(\"Концентрация до флотации\")\n",
    "print(\"Концентрация Серебра:{: 0.2f},Свинца:{: 0.2f},Золота:{: 0.2f}\".\n",
    "format(without_nan[\"rougher.input.feed_ag\"].mean(),\n",
    "without_nan[\"rougher.input.feed_pb\"].mean(),\n",
    "without_nan[\"rougher.input.feed_au\"].mean()))\n",
    "print()\n",
    "print(\"Концентрация после флотации\")\n",
    "print(\"Коцентрация Серебра:{: 0.2f},Свинца:{: 0.2f},Золота:{: 0.2f}\".\n",
    "format(without_nan[\"rougher.output.concentrate_ag\"].mean(),\n",
    "without_nan[\"rougher.output.concentrate_pb\"].mean(),\n",
    "without_nan[\"rougher.output.concentrate_au\"].mean()))\n",
    "print()\n",
    "print(\"Концентрация после первичной очистки\")\n",
    "print(\"Концентрация Серебра:{: 0.2f},Свинца:{: 0.2f},Золота:{: 0.2f}\".\n",
    "format(without_nan[\"primary_cleaner.output.concentrate_ag\"].mean(),\n",
    "without_nan[\"primary_cleaner.output.concentrate_pb\"].mean(),\n",
    "without_nan[\"primary_cleaner.output.concentrate_au\"].mean()))\n",
    "print()\n",
    "print(\"Концентрация поле вторичной очистки\")\n",
    "print(\"Концентрация Серебра:{: 0.2f},Свинца:{: 0.2f},Золота:{: 0.2f}\".\n",
    "format(without_nan[\"final.output.concentrate_ag\"].mean(),\n",
    "without_nan[\"final.output.concentrate_pb\"].mean(),\n",
    "without_nan[\"final.output.concentrate_au\"].mean()))"
   ]
  },
  {
   "cell_type": "markdown",
   "metadata": {
    "id": "LRu-HVTqxI9z"
   },
   "source": [
    "По представленным выше данным отчетливо видно, что с каждым этапом увеличивается концентрация золата и свинца, так же можно заметить уменьшение концентрации серебра"
   ]
  },
  {
   "cell_type": "markdown",
   "metadata": {},
   "source": [
    "## График распределения размера гранул"
   ]
  },
  {
   "cell_type": "code",
   "execution_count": 21,
   "metadata": {
    "ExecuteTime": {
     "end_time": "2021-01-13T13:36:11.785447Z",
     "start_time": "2021-01-13T13:36:11.429850Z"
    }
   },
   "outputs": [
    {
     "data": {
      "text/plain": [
       "Text(0.5, 1.0, 'Размер гранул')"
      ]
     },
     "execution_count": 21,
     "metadata": {},
     "output_type": "execute_result"
    },
    {
     "data": {
      "image/png": "[encoded data removed]",
      "text/plain": [
       "<Figure size 432x288 with 1 Axes>"
      ]
     },
     "metadata": {
      "needs_background": "light"
     },
     "output_type": "display_data"
    }
   ],
   "source": [
    "for frame,name in zip([without_nan,test_without_nan],\n",
    "                       [\"train\",\"test\"]):\n",
    "    subset = frame[\"rougher.input.feed_size\"]\n",
    "\n",
    "    sns.distplot(subset, hist = False, kde = True,\n",
    "                 label = name)\n",
    "plt.legend(prop={'size': 10}, title = 'Frame')\n",
    "plt.title('Размер гранул')"
   ]
  },
  {
   "cell_type": "markdown",
   "metadata": {
    "id": "Z5zmK3U8xI93"
   },
   "source": [
    "Мы можем видеть, что распределения немного отличаются. В тренировочной выборке преобладают значения около порога 50 и выше, в то же время как в тестовой выборке достаточно большое количество объектов сконцентрированы до порога 50. Так же это заметно и на средних значениях, среднее значение тренировочной выборки на 3 пункта больше среднего по тестовой выборке"
   ]
  },
  {
   "cell_type": "markdown",
   "metadata": {},
   "source": [
    "## Расчет суммарной концентрации"
   ]
  },
  {
   "cell_type": "code",
   "execution_count": 22,
   "metadata": {
    "ExecuteTime": {
     "end_time": "2021-01-13T13:26:07.178615Z",
     "start_time": "2021-01-13T13:25:53.585Z"
    },
    "id": "tp4NwISTxI94"
   },
   "outputs": [],
   "source": [
    "def summary_of_concentarution(row):\n",
    "    list_of_steps = [\"rougher\",\"primary_cleaner\",\"final\"]\n",
    "    input_feed_au = row[\"rougher.input.feed_au\"]\n",
    "    input_feed_ag = row[\"rougher.input.feed_ag\"]\n",
    "    input_feed_pb = row[\"rougher.input.feed_pb\"]\n",
    "    input_feed_sol = row[\"rougher.input.feed_sol\"]\n",
    "    out_rougher = []\n",
    "    out_primary_cleaner = []\n",
    "    out_final = []\n",
    "    list_of_arrays =[out_rougher,out_primary_cleaner,out_final]\n",
    "    for step,array in zip(list_of_steps,list_of_arrays):\n",
    "        array.append(row[step+\".output.concentrate_au\"])\n",
    "        array.append(row[step+\".output.concentrate_ag\"])\n",
    "        array.append(row[step+\".output.concentrate_pb\"])\n",
    "        array.append(row[step+\".output.concentrate_sol\"])\n",
    "    sum_before_steps = input_feed_ag+input_feed_au+input_feed_pb+input_feed_sol\n",
    "    sum_rougher = sum(out_rougher)\n",
    "    sum_primary = sum(out_primary_cleaner)\n",
    "    sum_final = sum(out_final)\n",
    "    return pd.Series([sum_before_steps,sum_rougher,sum_primary,sum_final])\n",
    "    "
   ]
  },
  {
   "cell_type": "code",
   "execution_count": 23,
   "metadata": {
    "ExecuteTime": {
     "end_time": "2021-01-13T13:26:07.179793Z",
     "start_time": "2021-01-13T13:25:53.588Z"
    },
    "id": "ijLtt76bxI98",
    "scrolled": true
   },
   "outputs": [],
   "source": [
    "sum_values = without_nan.apply(summary_of_concentarution,axis = 1)\n",
    "sum_values.columns = [\"before_rougher\",\"rougher\",\"primary_cleaner\",\"final\"]"
   ]
  },
  {
   "cell_type": "code",
   "execution_count": 24,
   "metadata": {
    "ExecuteTime": {
     "end_time": "2021-01-13T13:26:07.181036Z",
     "start_time": "2021-01-13T13:25:53.592Z"
    },
    "colab": {
     "base_uri": "https://localhost:8080/",
     "height": 407
    },
    "id": "ttrcZn6axI9_",
    "outputId": "4adaec4b-019d-4c49-fabe-dbe0c73cb722",
    "scrolled": false
   },
   "outputs": [
    {
     "data": {
      "text/html": [
       "<div>\n",
       "<style scoped>\n",
       "    .dataframe tbody tr th:only-of-type {\n",
       "        vertical-align: middle;\n",
       "    }\n",
       "\n",
       "    .dataframe tbody tr th {\n",
       "        vertical-align: top;\n",
       "    }\n",
       "\n",
       "    .dataframe thead th {\n",
       "        text-align: right;\n",
       "    }\n",
       "</style>\n",
       "<table border=\"1\" class=\"dataframe\">\n",
       "  <thead>\n",
       "    <tr style=\"text-align: right;\">\n",
       "      <th></th>\n",
       "      <th>before_rougher</th>\n",
       "      <th>rougher</th>\n",
       "      <th>primary_cleaner</th>\n",
       "      <th>final</th>\n",
       "    </tr>\n",
       "  </thead>\n",
       "  <tbody>\n",
       "    <tr>\n",
       "      <th>0</th>\n",
       "      <td>51.680034</td>\n",
       "      <td>66.424950</td>\n",
       "      <td>72.640924</td>\n",
       "      <td>63.644396</td>\n",
       "    </tr>\n",
       "    <tr>\n",
       "      <th>1</th>\n",
       "      <td>50.659114</td>\n",
       "      <td>67.012710</td>\n",
       "      <td>72.543485</td>\n",
       "      <td>63.957723</td>\n",
       "    </tr>\n",
       "    <tr>\n",
       "      <th>2</th>\n",
       "      <td>50.609929</td>\n",
       "      <td>66.103793</td>\n",
       "      <td>72.095042</td>\n",
       "      <td>64.311180</td>\n",
       "    </tr>\n",
       "    <tr>\n",
       "      <th>3</th>\n",
       "      <td>51.061546</td>\n",
       "      <td>65.752751</td>\n",
       "      <td>59.957723</td>\n",
       "      <td>63.573449</td>\n",
       "    </tr>\n",
       "    <tr>\n",
       "      <th>4</th>\n",
       "      <td>47.859163</td>\n",
       "      <td>65.908382</td>\n",
       "      <td>71.321010</td>\n",
       "      <td>64.004667</td>\n",
       "    </tr>\n",
       "    <tr>\n",
       "      <th>...</th>\n",
       "      <td>...</td>\n",
       "      <td>...</td>\n",
       "      <td>...</td>\n",
       "      <td>...</td>\n",
       "    </tr>\n",
       "    <tr>\n",
       "      <th>16855</th>\n",
       "      <td>53.415050</td>\n",
       "      <td>70.781325</td>\n",
       "      <td>59.001692</td>\n",
       "      <td>68.098589</td>\n",
       "    </tr>\n",
       "    <tr>\n",
       "      <th>16856</th>\n",
       "      <td>53.696482</td>\n",
       "      <td>70.539603</td>\n",
       "      <td>59.703912</td>\n",
       "      <td>68.274362</td>\n",
       "    </tr>\n",
       "    <tr>\n",
       "      <th>16857</th>\n",
       "      <td>54.589604</td>\n",
       "      <td>55.376330</td>\n",
       "      <td>59.561096</td>\n",
       "      <td>68.226068</td>\n",
       "    </tr>\n",
       "    <tr>\n",
       "      <th>16858</th>\n",
       "      <td>54.027355</td>\n",
       "      <td>69.201689</td>\n",
       "      <td>57.216686</td>\n",
       "      <td>68.200449</td>\n",
       "    </tr>\n",
       "    <tr>\n",
       "      <th>16859</th>\n",
       "      <td>53.535054</td>\n",
       "      <td>69.544003</td>\n",
       "      <td>55.748041</td>\n",
       "      <td>68.353154</td>\n",
       "    </tr>\n",
       "  </tbody>\n",
       "</table>\n",
       "<p>14149 rows × 4 columns</p>\n",
       "</div>"
      ],
      "text/plain": [
       "       before_rougher    rougher  primary_cleaner      final\n",
       "0           51.680034  66.424950        72.640924  63.644396\n",
       "1           50.659114  67.012710        72.543485  63.957723\n",
       "2           50.609929  66.103793        72.095042  64.311180\n",
       "3           51.061546  65.752751        59.957723  63.573449\n",
       "4           47.859163  65.908382        71.321010  64.004667\n",
       "...               ...        ...              ...        ...\n",
       "16855       53.415050  70.781325        59.001692  68.098589\n",
       "16856       53.696482  70.539603        59.703912  68.274362\n",
       "16857       54.589604  55.376330        59.561096  68.226068\n",
       "16858       54.027355  69.201689        57.216686  68.200449\n",
       "16859       53.535054  69.544003        55.748041  68.353154\n",
       "\n",
       "[14149 rows x 4 columns]"
      ]
     },
     "execution_count": 24,
     "metadata": {},
     "output_type": "execute_result"
    }
   ],
   "source": [
    "sum_values"
   ]
  },
  {
   "cell_type": "code",
   "execution_count": 25,
   "metadata": {
    "ExecuteTime": {
     "end_time": "2021-01-13T13:26:07.181864Z",
     "start_time": "2021-01-13T13:25:53.595Z"
    },
    "colab": {
     "base_uri": "https://localhost:8080/",
     "height": 1000
    },
    "id": "3zMTQ0M5xI-G",
    "outputId": "ce9f0ed9-0fe0-43c3-afa6-1331c3454122",
    "scrolled": true
   },
   "outputs": [
    {
     "data": {
      "image/png": "[encoded data removed]",
      "text/plain": [
       "<Figure size 1440x2160 with 4 Axes>"
      ]
     },
     "metadata": {
      "needs_background": "light"
     },
     "output_type": "display_data"
    }
   ],
   "source": [
    "fig,ax = plt.subplots(4,1,figsize = (20,30))\n",
    "\n",
    "ax[0].hist(sum_values[\"before_rougher\"],bins = 40)\n",
    "ax[1].hist(sum_values[\"rougher\"],bins = 40)\n",
    "ax[2].hist(sum_values[\"primary_cleaner\"],bins = 40)\n",
    "ax[3].hist(sum_values[\"final\"],bins = 40)\n",
    "ax[0].set_xlabel(\"Сумма долей компонентов\")\n",
    "ax[1].set_xlabel(\"Сумма долей компонентов\")\n",
    "ax[2].set_xlabel(\"Сумма долей компонентов\")\n",
    "ax[3].set_xlabel(\"Сумма долей компонентов\")\n",
    "ax[0].set_title(\"Концентрация компонентов до флотации\")\n",
    "ax[1].set_title(\"Концентрация компонентов после флотации\")\n",
    "ax[2].set_title(\"Концентрация компонентов после первичной очистки\")\n",
    "ax[3].set_title(\"Концентрация компонентов после финального этапа\")\n",
    "plt.show()"
   ]
  },
  {
   "cell_type": "markdown",
   "metadata": {
    "id": "C_LHaZeWxI-K"
   },
   "source": [
    "Можно заметить, что во всех распределениях присутствует пик около нулевого значения. Он очень далек от общего распределения, его следует удалить. Так же это стоит проделать и в тестовой выборке, так они носят характер выбросов "
   ]
  },
  {
   "cell_type": "markdown",
   "metadata": {},
   "source": [
    "## Удаление выбросов"
   ]
  },
  {
   "cell_type": "code",
   "execution_count": 26,
   "metadata": {
    "ExecuteTime": {
     "end_time": "2021-01-13T13:26:07.182772Z",
     "start_time": "2021-01-13T13:25:53.598Z"
    },
    "id": "VeX34UU6xI-T"
   },
   "outputs": [],
   "source": [
    "without_nan = without_nan.drop(index = without_nan[without_nan[\"rougher.input.feed_au\"] < 1].index,\n",
    "                               axis = 0)\n",
    "without_nan = without_nan.drop(index = without_nan[without_nan[\"rougher.input.feed_ag\"] < 1].index,\n",
    "                               axis = 0)\n",
    "without_nan = without_nan.drop(index = without_nan[without_nan[\"rougher.input.feed_pb\"] < 1].index,\n",
    "                               axis = 0)\n",
    "without_nan = without_nan.drop(index = without_nan[without_nan[\"rougher.input.feed_sol\"] < 1].index,\n",
    "                               axis = 0)\n",
    "\n",
    "\n",
    "without_nan = without_nan.drop(index = without_nan[without_nan[\"rougher.output.concentrate_au\"] < 1].index,\n",
    "                               axis = 0)\n",
    "without_nan = without_nan.drop(index = without_nan[without_nan[\"rougher.output.concentrate_ag\"] < 1].index,\n",
    "                               axis = 0)\n",
    "without_nan = without_nan.drop(index = without_nan[without_nan[\"rougher.output.concentrate_pb\"] < 1].index,\n",
    "                               axis = 0)\n",
    "without_nan = without_nan.drop(index = without_nan[without_nan[\"rougher.output.concentrate_sol\"] < 1].index,\n",
    "                               axis = 0)\n",
    "\n",
    "without_nan = without_nan.drop(index = without_nan[without_nan[\"primary_cleaner.output.concentrate_au\"] < 1].index,\n",
    "                               axis = 0)\n",
    "without_nan = without_nan.drop(index = without_nan[without_nan[\"primary_cleaner.output.concentrate_ag\"] < 1].index,\n",
    "                               axis = 0)\n",
    "without_nan = without_nan.drop(index = without_nan[without_nan[\"primary_cleaner.output.concentrate_pb\"] < 1].index,\n",
    "                               axis = 0)\n",
    "without_nan = without_nan.drop(index = without_nan[without_nan[\"primary_cleaner.output.concentrate_sol\"] < 1].index,\n",
    "                               axis = 0)\n",
    "\n",
    "without_nan = without_nan.drop(index = without_nan[without_nan[\"final.output.concentrate_au\"] < 1].index,\n",
    "                               axis = 0)\n",
    "without_nan = without_nan.drop(index = without_nan[without_nan[\"final.output.concentrate_ag\"] < 1].index,\n",
    "                               axis = 0)\n",
    "without_nan = without_nan.drop(index = without_nan[without_nan[\"final.output.concentrate_pb\"] < 1].index,\n",
    "                               axis = 0)\n",
    "without_nan = without_nan.drop(index = without_nan[without_nan[\"final.output.concentrate_sol\"] < 1].index,\n",
    "                               axis = 0)\n"
   ]
  },
  {
   "cell_type": "markdown",
   "metadata": {},
   "source": [
    "## График суммарной концентрации после удаления выбросов"
   ]
  },
  {
   "cell_type": "code",
   "execution_count": 27,
   "metadata": {
    "ExecuteTime": {
     "end_time": "2021-01-13T13:26:07.183612Z",
     "start_time": "2021-01-13T13:25:53.601Z"
    }
   },
   "outputs": [
    {
     "data": {
      "image/png": "[encoded data removed]",
      "text/plain": [
       "<Figure size 1440x2160 with 4 Axes>"
      ]
     },
     "metadata": {
      "needs_background": "light"
     },
     "output_type": "display_data"
    }
   ],
   "source": [
    "fig,ax = plt.subplots(4,1,figsize = (20,30))\n",
    "\n",
    "ax[0].hist(sum_values[\"before_rougher\"],bins = 40)\n",
    "ax[1].hist(sum_values[\"rougher\"],bins = 40)\n",
    "ax[2].hist(sum_values[\"primary_cleaner\"],bins = 40)\n",
    "ax[3].hist(sum_values[\"final\"],bins = 40)\n",
    "ax[0].set_xlabel(\"Сумма долей компонентов\")\n",
    "ax[1].set_xlabel(\"Сумма долей компонентов\")\n",
    "ax[2].set_xlabel(\"Сумма долей компонентов\")\n",
    "ax[3].set_xlabel(\"Сумма долей компонентов\")\n",
    "ax[0].set_title(\"Концентрация компонентов до флотации\")\n",
    "ax[1].set_title(\"Концентрация компонентов после флотации\")\n",
    "ax[2].set_title(\"Концентрация компонентов после первичной очистки\")\n",
    "ax[3].set_title(\"Концентрация компонентов после финального этапа\")\n",
    "plt.show()"
   ]
  },
  {
   "cell_type": "code",
   "execution_count": 28,
   "metadata": {
    "ExecuteTime": {
     "end_time": "2021-01-13T13:26:07.184419Z",
     "start_time": "2021-01-13T13:25:53.604Z"
    },
    "id": "ETIza0b7xI-V"
   },
   "outputs": [],
   "source": [
    "test_frame = test_frame.drop(index = test_frame[test_frame[\"rougher.input.feed_au\"] < 1].index,\n",
    "                               axis = 0)\n",
    "test_frame = test_frame.drop(index = test_frame[test_frame[\"rougher.input.feed_ag\"] < 1].index,\n",
    "                               axis = 0)\n",
    "test_frame = test_frame.drop(index = test_frame[test_frame[\"rougher.input.feed_pb\"] < 1].index,\n",
    "                               axis = 0)\n",
    "test_frame = test_frame.drop(index = test_frame[test_frame[\"rougher.input.feed_sol\"] < 1].index,\n",
    "                               axis = 0)\n"
   ]
  },
  {
   "cell_type": "code",
   "execution_count": 29,
   "metadata": {
    "ExecuteTime": {
     "end_time": "2021-01-13T13:26:07.185327Z",
     "start_time": "2021-01-13T13:25:53.607Z"
    },
    "id": "bldWSvYJ5Hpt"
   },
   "outputs": [],
   "source": [
    "train_features_dataset_rougher = without_nan.loc[:,test_frame.columns]\n",
    "train_target_dataset_rougher = without_nan['rougher.output.recovery']\n",
    "train_features_dataset_final = train_features_dataset_rougher \n",
    "train_target_dataset_final = without_nan['final.output.recovery']"
   ]
  },
  {
   "cell_type": "markdown",
   "metadata": {
    "id": "0u7D1h_uxI-Y"
   },
   "source": [
    "#  Модель"
   ]
  },
  {
   "cell_type": "markdown",
   "metadata": {},
   "source": [
    "## Метрики"
   ]
  },
  {
   "cell_type": "code",
   "execution_count": 30,
   "metadata": {
    "ExecuteTime": {
     "end_time": "2021-01-13T13:26:07.186180Z",
     "start_time": "2021-01-13T13:25:53.610Z"
    },
    "id": "R7ZAqkRXxI-Y"
   },
   "outputs": [],
   "source": [
    "def sMAPE(y_true,y_pred):\n",
    "    error = np.mean(abs(y_true - y_pred)/((abs(y_true)+abs(y_pred))/2))*100\n",
    "    return error"
   ]
  },
  {
   "cell_type": "code",
   "execution_count": 31,
   "metadata": {
    "ExecuteTime": {
     "end_time": "2021-01-13T13:26:07.186837Z",
     "start_time": "2021-01-13T13:25:53.613Z"
    }
   },
   "outputs": [],
   "source": [
    "def final_sMAPE(sMAPE_rougher,sMAPE_final):\n",
    "    return (0.25*sMAPE_rougher + 0.75*sMAPE_final)"
   ]
  },
  {
   "cell_type": "code",
   "execution_count": 32,
   "metadata": {
    "ExecuteTime": {
     "end_time": "2021-01-13T13:26:07.187647Z",
     "start_time": "2021-01-13T13:25:53.616Z"
    },
    "scrolled": true
   },
   "outputs": [],
   "source": [
    "custom_score = make_scorer(sMAPE,greater_is_better=False)"
   ]
  },
  {
   "cell_type": "markdown",
   "metadata": {},
   "source": [
    "## Инициализация pipeline"
   ]
  },
  {
   "cell_type": "code",
   "execution_count": 33,
   "metadata": {
    "ExecuteTime": {
     "end_time": "2021-01-13T13:26:07.188629Z",
     "start_time": "2021-01-13T13:25:53.618Z"
    }
   },
   "outputs": [],
   "source": [
    "model = make_pipeline(StandardScaler(),RandomForestRegressor())\n",
    "model2 = make_pipeline(StandardScaler(),DecisionTreeRegressor())\n",
    "\n"
   ]
  },
  {
   "cell_type": "code",
   "execution_count": 34,
   "metadata": {
    "ExecuteTime": {
     "end_time": "2021-01-13T13:26:07.189398Z",
     "start_time": "2021-01-13T13:25:53.620Z"
    }
   },
   "outputs": [],
   "source": [
    "# Инициализация параметров для GridSearchCV\n",
    "params_RF = {\"randomforestregressor__n_estimators\":[5,100],\n",
    "             \"randomforestregressor__max_depth\":[1,10]}\n",
    "params_DT= {\"decisiontreeregressor__max_depth\":[1,10]}"
   ]
  },
  {
   "cell_type": "code",
   "execution_count": 35,
   "metadata": {
    "ExecuteTime": {
     "end_time": "2021-01-13T13:26:07.190239Z",
     "start_time": "2021-01-13T13:25:53.625Z"
    }
   },
   "outputs": [],
   "source": [
    "grid_rougher = GridSearchCV(model,param_grid = params_RF,scoring=custom_score)\n",
    "grid_final = GridSearchCV(model,param_grid = params_RF,scoring=custom_score)\n",
    "grid_rougher_DT = GridSearchCV(model2,param_grid = params_DT,scoring=custom_score)\n",
    "grid_final_DT = GridSearchCV(model2,param_grid = params_DT,scoring=custom_score)"
   ]
  },
  {
   "cell_type": "markdown",
   "metadata": {},
   "source": [
    "## Обучение"
   ]
  },
  {
   "cell_type": "code",
   "execution_count": 36,
   "metadata": {
    "ExecuteTime": {
     "end_time": "2021-01-13T13:26:07.191068Z",
     "start_time": "2021-01-13T13:25:53.628Z"
    },
    "scrolled": true
   },
   "outputs": [
    {
     "data": {
      "text/plain": [
       "GridSearchCV(estimator=Pipeline(steps=[('standardscaler', StandardScaler()),\n",
       "                                       ('decisiontreeregressor',\n",
       "                                        DecisionTreeRegressor())]),\n",
       "             param_grid={'decisiontreeregressor__max_depth': [1, 10]},\n",
       "             scoring=make_scorer(sMAPE, greater_is_better=False))"
      ]
     },
     "execution_count": 36,
     "metadata": {},
     "output_type": "execute_result"
    }
   ],
   "source": [
    "grid_rougher.fit(train_features_dataset_rougher,train_target_dataset_rougher)\n",
    "grid_final.fit(train_features_dataset_final,train_target_dataset_final)\n",
    "grid_rougher_DT.fit(train_features_dataset_rougher,train_target_dataset_rougher)\n",
    "grid_final_DT.fit(train_features_dataset_final,train_target_dataset_final)"
   ]
  },
  {
   "cell_type": "code",
   "execution_count": 37,
   "metadata": {
    "ExecuteTime": {
     "end_time": "2021-01-13T13:26:07.191792Z",
     "start_time": "2021-01-13T13:25:53.631Z"
    }
   },
   "outputs": [
    {
     "name": "stdout",
     "output_type": "stream",
     "text": [
      "Лучшие модели\n",
      "Pipeline(steps=[('standardscaler', StandardScaler()),\n",
      "                ('randomforestregressor', RandomForestRegressor(max_depth=10))])\n",
      "Pipeline(steps=[('standardscaler', StandardScaler()),\n",
      "                ('randomforestregressor', RandomForestRegressor(max_depth=10))])\n",
      "Pipeline(steps=[('standardscaler', StandardScaler()),\n",
      "                ('decisiontreeregressor', DecisionTreeRegressor(max_depth=1))])\n",
      "Pipeline(steps=[('standardscaler', StandardScaler()),\n",
      "                ('decisiontreeregressor', DecisionTreeRegressor(max_depth=1))])\n"
     ]
    }
   ],
   "source": [
    "print(\"Лучшие модели\")\n",
    "print(grid_rougher.best_estimator_)\n",
    "print(grid_rougher.best_estimator_)\n",
    "print(grid_rougher_DT.best_estimator_)\n",
    "print(grid_final_DT.best_estimator_)"
   ]
  },
  {
   "cell_type": "code",
   "execution_count": 38,
   "metadata": {
    "ExecuteTime": {
     "end_time": "2021-01-13T13:26:07.192587Z",
     "start_time": "2021-01-13T13:25:53.636Z"
    }
   },
   "outputs": [],
   "source": [
    "best_score_rougher = grid_rougher.best_score_\n",
    "best_score_final = grid_final.best_score_\n",
    "best_score_rougher_DT = grid_rougher_DT.best_score_\n",
    "best_score_final_DT = grid_final_DT.best_score_"
   ]
  },
  {
   "cell_type": "markdown",
   "metadata": {},
   "source": [
    "Определим лучшую модель для каждого целевого признака"
   ]
  },
  {
   "cell_type": "code",
   "execution_count": 39,
   "metadata": {
    "ExecuteTime": {
     "end_time": "2021-01-13T13:26:07.193430Z",
     "start_time": "2021-01-13T13:25:53.646Z"
    },
    "scrolled": true
   },
   "outputs": [
    {
     "name": "stdout",
     "output_type": "stream",
     "text": [
      "rougher\n",
      "RandomForest -6.532688829277843 DecisionTree -7.962795330896381\n",
      "final\n",
      "RandomForest -9.362622857762606 DecisionTree -9.50283445513263\n"
     ]
    }
   ],
   "source": [
    "print(\"rougher\")\n",
    "print(\"RandomForest\",best_score_rougher,\"DecisionTree\",best_score_rougher_DT)\n",
    "print(\"final\")\n",
    "print(\"RandomForest\",best_score_final,\"DecisionTree\",best_score_final_DT)"
   ]
  },
  {
   "cell_type": "markdown",
   "metadata": {},
   "source": [
    "Видно, что лучше всего справляется RandomForest, так что как лучшую модель возьмем именно его"
   ]
  },
  {
   "cell_type": "markdown",
   "metadata": {},
   "source": [
    "## Лучшие результаты на тренировочной выборке"
   ]
  },
  {
   "cell_type": "markdown",
   "metadata": {},
   "source": [
    "Финальный sMAPE рандомного леса"
   ]
  },
  {
   "cell_type": "code",
   "execution_count": 40,
   "metadata": {
    "ExecuteTime": {
     "end_time": "2021-01-13T13:26:07.194345Z",
     "start_time": "2021-01-13T13:25:53.654Z"
    }
   },
   "outputs": [
    {
     "data": {
      "text/plain": [
       "-8.655139350641415"
      ]
     },
     "execution_count": 40,
     "metadata": {},
     "output_type": "execute_result"
    }
   ],
   "source": [
    "final_sMAPE(best_score_rougher,best_score_final)"
   ]
  },
  {
   "cell_type": "markdown",
   "metadata": {},
   "source": [
    "Финальный sMAPE решающего дерева"
   ]
  },
  {
   "cell_type": "code",
   "execution_count": 41,
   "metadata": {
    "ExecuteTime": {
     "end_time": "2021-01-13T13:26:07.195500Z",
     "start_time": "2021-01-13T13:25:53.658Z"
    },
    "scrolled": true
   },
   "outputs": [
    {
     "data": {
      "text/plain": [
       "-9.11782467407357"
      ]
     },
     "execution_count": 41,
     "metadata": {},
     "output_type": "execute_result"
    }
   ],
   "source": [
    "final_sMAPE(best_score_rougher_DT,best_score_final_DT)"
   ]
  },
  {
   "cell_type": "markdown",
   "metadata": {},
   "source": [
    "Наименьшую ошибку мы получили при использовании рандомного леса"
   ]
  },
  {
   "cell_type": "code",
   "execution_count": 42,
   "metadata": {
    "ExecuteTime": {
     "end_time": "2021-01-13T13:26:07.196687Z",
     "start_time": "2021-01-13T13:25:53.661Z"
    }
   },
   "outputs": [],
   "source": [
    "rogher_test = grid_rougher.predict(test_without_nan)"
   ]
  },
  {
   "cell_type": "code",
   "execution_count": 43,
   "metadata": {
    "ExecuteTime": {
     "end_time": "2021-01-13T13:26:07.197598Z",
     "start_time": "2021-01-13T13:25:53.665Z"
    }
   },
   "outputs": [],
   "source": [
    "final_test = grid_final.predict(test_without_nan)"
   ]
  },
  {
   "cell_type": "markdown",
   "metadata": {},
   "source": [
    "## Финальная ошибка на тестовой выборке"
   ]
  },
  {
   "cell_type": "code",
   "execution_count": 44,
   "metadata": {
    "ExecuteTime": {
     "end_time": "2021-01-13T13:26:07.198364Z",
     "start_time": "2021-01-13T13:25:53.671Z"
    },
    "scrolled": false
   },
   "outputs": [
    {
     "data": {
      "text/plain": [
       "9.139996902390664"
      ]
     },
     "execution_count": 44,
     "metadata": {},
     "output_type": "execute_result"
    }
   ],
   "source": [
    "final_sMAPE(sMAPE(target_test_rougher,rogher_test),sMAPE(target_test_final,final_test))"
   ]
  },
  {
   "cell_type": "markdown",
   "metadata": {},
   "source": [
    "## Инициализируем и обучим константную модель"
   ]
  },
  {
   "cell_type": "code",
   "execution_count": 45,
   "metadata": {
    "ExecuteTime": {
     "end_time": "2021-01-13T13:26:07.199206Z",
     "start_time": "2021-01-13T13:25:53.677Z"
    }
   },
   "outputs": [],
   "source": [
    "base = DummyRegressor(strategy=\"median\")\n",
    "base_final = DummyRegressor(strategy=\"median\")"
   ]
  },
  {
   "cell_type": "code",
   "execution_count": 46,
   "metadata": {
    "ExecuteTime": {
     "end_time": "2021-01-13T13:26:07.200239Z",
     "start_time": "2021-01-13T13:25:53.680Z"
    },
    "scrolled": true
   },
   "outputs": [
    {
     "data": {
      "text/plain": [
       "DummyRegressor(strategy='median')"
      ]
     },
     "execution_count": 46,
     "metadata": {},
     "output_type": "execute_result"
    }
   ],
   "source": [
    "base.fit(train_features_dataset_rougher,train_target_dataset_rougher)\n",
    "base_final.fit(train_features_dataset_final,train_target_dataset_final)"
   ]
  },
  {
   "cell_type": "markdown",
   "metadata": {},
   "source": [
    "Предскажем метки\n"
   ]
  },
  {
   "cell_type": "code",
   "execution_count": 47,
   "metadata": {
    "ExecuteTime": {
     "end_time": "2021-01-13T13:26:07.201095Z",
     "start_time": "2021-01-13T13:25:53.683Z"
    }
   },
   "outputs": [],
   "source": [
    "base_rougher = base.predict(test_without_nan)\n",
    "base_final_pred = base_final.predict(test_without_nan)"
   ]
  },
  {
   "cell_type": "code",
   "execution_count": 48,
   "metadata": {
    "ExecuteTime": {
     "end_time": "2021-01-13T13:26:07.201971Z",
     "start_time": "2021-01-13T13:25:53.685Z"
    },
    "scrolled": true
   },
   "outputs": [
    {
     "data": {
      "text/plain": [
       "9.44138312943423"
      ]
     },
     "execution_count": 48,
     "metadata": {},
     "output_type": "execute_result"
    }
   ],
   "source": [
    "final_sMAPE(sMAPE(target_test_rougher,base_rougher),sMAPE(target_test_final,base_final_pred))"
   ]
  },
  {
   "cell_type": "markdown",
   "metadata": {},
   "source": [
    "## Вывод после сравнения результатов"
   ]
  },
  {
   "cell_type": "markdown",
   "metadata": {},
   "source": [
    "Ошибка на тесте приемлемая, так как она меньше чем на константном алгоритме\n"
   ]
  },
  {
   "cell_type": "markdown",
   "metadata": {},
   "source": [
    "# Вывод"
   ]
  },
  {
   "cell_type": "markdown",
   "metadata": {},
   "source": [
    "- Итоговая модель построена на алгоритме RandomForest\n",
    "- Ошибка на тестовой выборке: 9.15\n",
    "- Параметры алгоритма: { max_depth: 10}\n",
    "- Параметр recovery в тренировочной выборке был рассчитан верно\n",
    "- Изначально, в тестовой выборке отсутствует 34 признака"
   ]
  }
 ],
 "metadata": {
  "colab": {
   "collapsed_sections": [],
   "name": "gold_recovery.ipynb",
   "provenance": []
  },
  "hide_input": false,
  "kernelspec": {
   "display_name": "Python 3",
   "language": "python",
   "name": "python3"
  },
  "language_info": {
   "codemirror_mode": {
    "name": "ipython",
    "version": 3
   },
   "file_extension": ".py",
   "mimetype": "text/x-python",
   "name": "python",
   "nbconvert_exporter": "python",
   "pygments_lexer": "ipython3",
   "version": "3.8.3"
  },
  "toc": {
   "base_numbering": 1,
   "nav_menu": {},
   "number_sections": true,
   "sideBar": true,
   "skip_h1_title": false,
   "title_cell": "Содержание",
   "title_sidebar": "Contents",
   "toc_cell": true,
   "toc_position": {},
   "toc_section_display": true,
   "toc_window_display": true
  },
  "varInspector": {
   "cols": {
    "lenName": 16,
    "lenType": 16,
    "lenVar": 40
   },
   "kernels_config": {
    "python": {
     "delete_cmd_postfix": "",
     "delete_cmd_prefix": "del ",
     "library": "var_list.py",
     "varRefreshCmd": "print(var_dic_list())"
    },
    "r": {
     "delete_cmd_postfix": ") ",
     "delete_cmd_prefix": "rm(",
     "library": "var_list.r",
     "varRefreshCmd": "cat(var_dic_list()) "
    }
   },
   "position": {
    "height": "469.71429443359375px",
    "left": "412.0000305175781px",
    "right": "20px",
    "top": "108.00000762939453px",
    "width": "668.7142944335938px"
   },
   "types_to_exclude": [
    "module",
    "function",
    "builtin_function_or_method",
    "instance",
    "_Feature"
   ],
   "window_display": false
  }
 },
 "nbformat": 4,
 "nbformat_minor": 1
}
