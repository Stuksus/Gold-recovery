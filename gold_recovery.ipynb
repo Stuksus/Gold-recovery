{
 "cells": [
  {
   "cell_type": "markdown",
   "metadata": {
    "id": "fVj9vOPMxI69"
   },
   "source": [
    "# Описание проекта\n",
    "\n",
    "Подготовьте прототип модели машинного обучения для «Цифры». Компания разрабатывает решения для эффективной работы промышленных предприятий.\n",
    "\n",
    "Модель должна предсказать коэффициент восстановления золота из золотосодержащей руды. В вашем распоряжении данные с параметрами добычи и очистки. \n",
    "\n",
    "Модель поможет оптимизировать производство, чтобы не запускать предприятие с убыточными характеристиками.\n",
    "\n",
    "Вам нужно:\n",
    "\n",
    "1. Подготовить данные;\n",
    "2. Провести исследовательский анализ данных;\n",
    "3. Построить и обучить модель.\n",
    "\n",
    "Чтобы выполнить проект, обращайтесь к библиотекам *pandas*, *matplotlib* и *sklearn.* Вам поможет их документация."
   ]
  },
  {
   "cell_type": "markdown",
   "metadata": {
    "id": "gpLuRsMfxI7C"
   },
   "source": [
    "## Импортирование необходимых библиотек\n"
   ]
  },
  {
   "cell_type": "code",
   "execution_count": 37,
   "metadata": {
    "id": "LrM3qYU1xI7F"
   },
   "outputs": [],
   "source": [
    "import numpy as np\n",
    "import pandas as pd\n",
    "from sklearn.metrics import mean_absolute_error as MAE\n",
    "from sklearn.pipeline import  make_pipeline\n",
    "from sklearn.impute import KNNImputer\n",
    "from sklearn.ensemble import RandomForestRegressor\n",
    "from sklearn.preprocessing import StandardScaler\n",
    "from sklearn.model_selection import cross_val_score\n",
    "from sklearn.model_selection import GridSearchCV\n",
    "import matplotlib.pyplot as plt\n",
    "from sklearn.metrics import make_scorer\n",
    "# pd.set_option('max_columns', 800) "
   ]
  },
  {
   "cell_type": "markdown",
   "metadata": {
    "id": "1w1k9D-RxI7R"
   },
   "source": [
    "# 1. Подготовка данных"
   ]
  },
  {
   "cell_type": "code",
   "execution_count": 2,
   "metadata": {
    "id": "M-kqvN_8xI7T"
   },
   "outputs": [],
   "source": [
    "test_frame = pd.read_csv(\"gold_recovery_test.csv\")\n",
    "train_frame = pd.read_csv(\"gold_recovery_train.csv\")\n",
    "full_frame = pd.read_csv(\"gold_recovery_full.csv\")"
   ]
  },
  {
   "cell_type": "code",
   "execution_count": 3,
   "metadata": {
    "id": "Nt7wRKCjxI7e",
    "scrolled": true
   },
   "outputs": [],
   "source": [
    "# train_frame = train_frame.fillna(1e-100)"
   ]
  },
  {
   "cell_type": "code",
   "execution_count": 4,
   "metadata": {
    "id": "lCWCuBkwxI7o"
   },
   "outputs": [],
   "source": [
    "train_frame = train_frame.replace(float(\"-inf\"),0)"
   ]
  },
  {
   "cell_type": "code",
   "execution_count": 5,
   "metadata": {
    "colab": {
     "base_uri": "https://localhost:8080/"
    },
    "id": "j7_7Gu-ZxI7x",
    "outputId": "b55bff41-8ae0-4ee1-f172-e1797fb21a6a"
   },
   "outputs": [
    {
     "name": "stdout",
     "output_type": "stream",
     "text": [
      "<class 'pandas.core.frame.DataFrame'>\n",
      "RangeIndex: 16860 entries, 0 to 16859\n",
      "Data columns (total 87 columns):\n",
      " #   Column                                              Non-Null Count  Dtype  \n",
      "---  ------                                              --------------  -----  \n",
      " 0   date                                                16860 non-null  object \n",
      " 1   final.output.concentrate_ag                         16788 non-null  float64\n",
      " 2   final.output.concentrate_pb                         16788 non-null  float64\n",
      " 3   final.output.concentrate_sol                        16490 non-null  float64\n",
      " 4   final.output.concentrate_au                         16789 non-null  float64\n",
      " 5   final.output.recovery                               15339 non-null  float64\n",
      " 6   final.output.tail_ag                                16794 non-null  float64\n",
      " 7   final.output.tail_pb                                16677 non-null  float64\n",
      " 8   final.output.tail_sol                               16715 non-null  float64\n",
      " 9   final.output.tail_au                                16794 non-null  float64\n",
      " 10  primary_cleaner.input.sulfate                       15553 non-null  float64\n",
      " 11  primary_cleaner.input.depressant                    15598 non-null  float64\n",
      " 12  primary_cleaner.input.feed_size                     16860 non-null  float64\n",
      " 13  primary_cleaner.input.xanthate                      15875 non-null  float64\n",
      " 14  primary_cleaner.output.concentrate_ag               16778 non-null  float64\n",
      " 15  primary_cleaner.output.concentrate_pb               16502 non-null  float64\n",
      " 16  primary_cleaner.output.concentrate_sol              16224 non-null  float64\n",
      " 17  primary_cleaner.output.concentrate_au               16778 non-null  float64\n",
      " 18  primary_cleaner.output.tail_ag                      16777 non-null  float64\n",
      " 19  primary_cleaner.output.tail_pb                      16761 non-null  float64\n",
      " 20  primary_cleaner.output.tail_sol                     16579 non-null  float64\n",
      " 21  primary_cleaner.output.tail_au                      16777 non-null  float64\n",
      " 22  primary_cleaner.state.floatbank8_a_air              16820 non-null  float64\n",
      " 23  primary_cleaner.state.floatbank8_a_level            16827 non-null  float64\n",
      " 24  primary_cleaner.state.floatbank8_b_air              16820 non-null  float64\n",
      " 25  primary_cleaner.state.floatbank8_b_level            16833 non-null  float64\n",
      " 26  primary_cleaner.state.floatbank8_c_air              16822 non-null  float64\n",
      " 27  primary_cleaner.state.floatbank8_c_level            16833 non-null  float64\n",
      " 28  primary_cleaner.state.floatbank8_d_air              16821 non-null  float64\n",
      " 29  primary_cleaner.state.floatbank8_d_level            16833 non-null  float64\n",
      " 30  rougher.calculation.sulfate_to_au_concentrate       16833 non-null  float64\n",
      " 31  rougher.calculation.floatbank10_sulfate_to_au_feed  16833 non-null  float64\n",
      " 32  rougher.calculation.floatbank11_sulfate_to_au_feed  16833 non-null  float64\n",
      " 33  rougher.calculation.au_pb_ratio                     15618 non-null  float64\n",
      " 34  rougher.input.feed_ag                               16778 non-null  float64\n",
      " 35  rougher.input.feed_pb                               16632 non-null  float64\n",
      " 36  rougher.input.feed_rate                             16347 non-null  float64\n",
      " 37  rougher.input.feed_size                             16443 non-null  float64\n",
      " 38  rougher.input.feed_sol                              16568 non-null  float64\n",
      " 39  rougher.input.feed_au                               16777 non-null  float64\n",
      " 40  rougher.input.floatbank10_sulfate                   15816 non-null  float64\n",
      " 41  rougher.input.floatbank10_xanthate                  16514 non-null  float64\n",
      " 42  rougher.input.floatbank11_sulfate                   16237 non-null  float64\n",
      " 43  rougher.input.floatbank11_xanthate                  14956 non-null  float64\n",
      " 44  rougher.output.concentrate_ag                       16778 non-null  float64\n",
      " 45  rougher.output.concentrate_pb                       16778 non-null  float64\n",
      " 46  rougher.output.concentrate_sol                      16698 non-null  float64\n",
      " 47  rougher.output.concentrate_au                       16778 non-null  float64\n",
      " 48  rougher.output.recovery                             14287 non-null  float64\n",
      " 49  rougher.output.tail_ag                              14610 non-null  float64\n",
      " 50  rougher.output.tail_pb                              16778 non-null  float64\n",
      " 51  rougher.output.tail_sol                             14611 non-null  float64\n",
      " 52  rougher.output.tail_au                              14611 non-null  float64\n",
      " 53  rougher.state.floatbank10_a_air                     16807 non-null  float64\n",
      " 54  rougher.state.floatbank10_a_level                   16807 non-null  float64\n",
      " 55  rougher.state.floatbank10_b_air                     16807 non-null  float64\n",
      " 56  rougher.state.floatbank10_b_level                   16807 non-null  float64\n",
      " 57  rougher.state.floatbank10_c_air                     16807 non-null  float64\n",
      " 58  rougher.state.floatbank10_c_level                   16814 non-null  float64\n",
      " 59  rougher.state.floatbank10_d_air                     16802 non-null  float64\n",
      " 60  rougher.state.floatbank10_d_level                   16809 non-null  float64\n",
      " 61  rougher.state.floatbank10_e_air                     16257 non-null  float64\n",
      " 62  rougher.state.floatbank10_e_level                   16809 non-null  float64\n",
      " 63  rougher.state.floatbank10_f_air                     16802 non-null  float64\n",
      " 64  rougher.state.floatbank10_f_level                   16802 non-null  float64\n",
      " 65  secondary_cleaner.output.tail_ag                    16776 non-null  float64\n",
      " 66  secondary_cleaner.output.tail_pb                    16764 non-null  float64\n",
      " 67  secondary_cleaner.output.tail_sol                   14874 non-null  float64\n",
      " 68  secondary_cleaner.output.tail_au                    16778 non-null  float64\n",
      " 69  secondary_cleaner.state.floatbank2_a_air            16497 non-null  float64\n",
      " 70  secondary_cleaner.state.floatbank2_a_level          16751 non-null  float64\n",
      " 71  secondary_cleaner.state.floatbank2_b_air            16705 non-null  float64\n",
      " 72  secondary_cleaner.state.floatbank2_b_level          16748 non-null  float64\n",
      " 73  secondary_cleaner.state.floatbank3_a_air            16763 non-null  float64\n",
      " 74  secondary_cleaner.state.floatbank3_a_level          16747 non-null  float64\n",
      " 75  secondary_cleaner.state.floatbank3_b_air            16752 non-null  float64\n",
      " 76  secondary_cleaner.state.floatbank3_b_level          16750 non-null  float64\n",
      " 77  secondary_cleaner.state.floatbank4_a_air            16731 non-null  float64\n",
      " 78  secondary_cleaner.state.floatbank4_a_level          16747 non-null  float64\n",
      " 79  secondary_cleaner.state.floatbank4_b_air            16768 non-null  float64\n",
      " 80  secondary_cleaner.state.floatbank4_b_level          16767 non-null  float64\n",
      " 81  secondary_cleaner.state.floatbank5_a_air            16775 non-null  float64\n",
      " 82  secondary_cleaner.state.floatbank5_a_level          16775 non-null  float64\n",
      " 83  secondary_cleaner.state.floatbank5_b_air            16775 non-null  float64\n",
      " 84  secondary_cleaner.state.floatbank5_b_level          16776 non-null  float64\n",
      " 85  secondary_cleaner.state.floatbank6_a_air            16757 non-null  float64\n",
      " 86  secondary_cleaner.state.floatbank6_a_level          16775 non-null  float64\n",
      "dtypes: float64(86), object(1)\n",
      "memory usage: 11.2+ MB\n"
     ]
    }
   ],
   "source": [
    "train_frame.info()"
   ]
  },
  {
   "cell_type": "code",
   "execution_count": 6,
   "metadata": {
    "id": "rBTFH4QCxI77"
   },
   "outputs": [],
   "source": [
    "def apply_recovery(row):\n",
    "    (input_au,\n",
    "     output_au,\n",
    "     output_tail) = (row[\"rougher.input.feed_au\"],\n",
    "                     row[\"rougher.output.concentrate_au\"],\n",
    "                     row[\"rougher.output.tail_au\"])\n",
    "    recovery_metric = (((output_au) * ((input_au) - (output_tail)))/\n",
    "                       (((input_au) * ((output_au) - (output_tail))))) * 100\n",
    "    return recovery_metric"
   ]
  },
  {
   "cell_type": "code",
   "execution_count": 7,
   "metadata": {
    "id": "Pe9348ikxI8J"
   },
   "outputs": [],
   "source": [
    "test = train_frame.dropna(subset = [\"rougher.input.feed_au\",\n",
    "                                    \"rougher.output.concentrate_au\",\n",
    "                                    \"rougher.output.tail_au\",\n",
    "                                    \"rougher.output.recovery\"],axis = 0).apply(\n",
    "                                                                        apply_recovery,axis = 1)"
   ]
  },
  {
   "cell_type": "code",
   "execution_count": 8,
   "metadata": {
    "colab": {
     "base_uri": "https://localhost:8080/"
    },
    "id": "aeJIn85gxI8T",
    "outputId": "34c738e8-f765-4631-8a61-abad7e737726"
   },
   "outputs": [
    {
     "data": {
      "text/plain": [
       "9.444891926100695e-15"
      ]
     },
     "execution_count": 8,
     "metadata": {},
     "output_type": "execute_result"
    }
   ],
   "source": [
    "MAE(train_frame.dropna(subset = [\"rougher.input.feed_au\",\n",
    "                                    \"rougher.output.concentrate_au\",\n",
    "                                    \"rougher.output.tail_au\",\n",
    "                                    \"rougher.output.recovery\"])[\"rougher.output.recovery\"],\n",
    "                       test)"
   ]
  },
  {
   "cell_type": "markdown",
   "metadata": {
    "id": "Laz-aucWxI8c"
   },
   "source": [
    "recovery в train рассчитаны верно "
   ]
  },
  {
   "cell_type": "code",
   "execution_count": 9,
   "metadata": {
    "id": "PZNJKJ6UxI8e",
    "scrolled": true
   },
   "outputs": [],
   "source": [
    "import collections\n",
    "step = collections.Counter()\n",
    "type_step = collections.Counter()\n",
    "data = collections.Counter()\n",
    "list_columns = [i for i in train_frame.columns if i not in test_frame.columns]\n",
    "for i in list_columns:\n",
    "    words = list(map(str,i.split(\".\")))\n",
    "    step[words[0]] += 1\n",
    "    type_step[words[1]] += 1\n",
    "    data[words[2]] += 1\n",
    "    "
   ]
  },
  {
   "cell_type": "code",
   "execution_count": 10,
   "metadata": {
    "colab": {
     "base_uri": "https://localhost:8080/"
    },
    "id": "AhJ0KmfRxI8m",
    "outputId": "a17d149e-35ed-4354-d4bd-d23de18b5d1d",
    "scrolled": true
   },
   "outputs": [
    {
     "data": {
      "text/plain": [
       "['final.output.concentrate_ag',\n",
       " 'final.output.concentrate_pb',\n",
       " 'final.output.concentrate_sol',\n",
       " 'final.output.concentrate_au',\n",
       " 'final.output.recovery',\n",
       " 'final.output.tail_ag',\n",
       " 'final.output.tail_pb',\n",
       " 'final.output.tail_sol',\n",
       " 'final.output.tail_au',\n",
       " 'primary_cleaner.output.concentrate_ag',\n",
       " 'primary_cleaner.output.concentrate_pb',\n",
       " 'primary_cleaner.output.concentrate_sol',\n",
       " 'primary_cleaner.output.concentrate_au',\n",
       " 'primary_cleaner.output.tail_ag',\n",
       " 'primary_cleaner.output.tail_pb',\n",
       " 'primary_cleaner.output.tail_sol',\n",
       " 'primary_cleaner.output.tail_au',\n",
       " 'rougher.calculation.sulfate_to_au_concentrate',\n",
       " 'rougher.calculation.floatbank10_sulfate_to_au_feed',\n",
       " 'rougher.calculation.floatbank11_sulfate_to_au_feed',\n",
       " 'rougher.calculation.au_pb_ratio',\n",
       " 'rougher.output.concentrate_ag',\n",
       " 'rougher.output.concentrate_pb',\n",
       " 'rougher.output.concentrate_sol',\n",
       " 'rougher.output.concentrate_au',\n",
       " 'rougher.output.recovery',\n",
       " 'rougher.output.tail_ag',\n",
       " 'rougher.output.tail_pb',\n",
       " 'rougher.output.tail_sol',\n",
       " 'rougher.output.tail_au',\n",
       " 'secondary_cleaner.output.tail_ag',\n",
       " 'secondary_cleaner.output.tail_pb',\n",
       " 'secondary_cleaner.output.tail_sol',\n",
       " 'secondary_cleaner.output.tail_au']"
      ]
     },
     "execution_count": 10,
     "metadata": {},
     "output_type": "execute_result"
    }
   ],
   "source": [
    "list_columns"
   ]
  },
  {
   "cell_type": "code",
   "execution_count": 11,
   "metadata": {
    "colab": {
     "base_uri": "https://localhost:8080/"
    },
    "id": "EnHfaP0cxI8v",
    "outputId": "9abee4db-e557-4392-ecd7-e085a6b10f9e",
    "scrolled": true
   },
   "outputs": [
    {
     "data": {
      "text/plain": [
       "(Counter({'final': 9,\n",
       "          'primary_cleaner': 8,\n",
       "          'rougher': 13,\n",
       "          'secondary_cleaner': 4}),\n",
       " '\\n',\n",
       " Counter({'output': 30, 'calculation': 4}),\n",
       " '\\n',\n",
       " Counter({'concentrate_ag': 3,\n",
       "          'concentrate_pb': 3,\n",
       "          'concentrate_sol': 3,\n",
       "          'concentrate_au': 3,\n",
       "          'recovery': 2,\n",
       "          'tail_ag': 4,\n",
       "          'tail_pb': 4,\n",
       "          'tail_sol': 4,\n",
       "          'tail_au': 4,\n",
       "          'sulfate_to_au_concentrate': 1,\n",
       "          'floatbank10_sulfate_to_au_feed': 1,\n",
       "          'floatbank11_sulfate_to_au_feed': 1,\n",
       "          'au_pb_ratio': 1}))"
      ]
     },
     "execution_count": 11,
     "metadata": {},
     "output_type": "execute_result"
    }
   ],
   "source": [
    "step,\"\\n\",type_step,\"\\n\",data"
   ]
  },
  {
   "cell_type": "markdown",
   "metadata": {
    "id": "8aCJ-qeKxI83"
   },
   "source": [
    "Заметим, что из 34 пропущенных признака 30 относятся к параметрам продукта и только 4 к рассчетным характеристикам  \n",
    "\n",
    "1. 9 пропущенных признаков этапа final, 8 primary_cleaner, 9 rougher, 4 secondary_cleaner относятся к параметрам продукта\n",
    "1. 4 пропущенных признака этапа rougher относятся к рассчетным характеристикам\n",
    "1. На всех этапах отсутсвует информация о хвостовых частях\n",
    "1. Во всех этапах, кроме повтороной очистки отсутсвует информация о доле металлов \n",
    "1. У финального этапа и этапа флотации отсутсвуют признаки обогащения\n",
    "1. Так же остутсвуют данные о некоторых реогентах на этапе флотации\n"
   ]
  },
  {
   "cell_type": "markdown",
   "metadata": {
    "id": "gFeYtvWRxI85"
   },
   "source": [
    "проверим можем ли мы востановить згначения обогащения"
   ]
  },
  {
   "cell_type": "code",
   "execution_count": 12,
   "metadata": {
    "id": "J7UZtz4kxI86"
   },
   "outputs": [],
   "source": [
    "# index_notnull_params = list(train_frame.dropna(subset=[\"rougher.input.feed_au\",\n",
    "#                                     \"rougher.output.concentrate_au\",\n",
    "#                                     \"rougher.output.tail_au\",\n",
    "#                                     \"rougher.output.recovery\"]).index)\n",
    "# index_notnull_recovery = list(train_frame.dropna(subset = [\"rougher.output.recovery\"]).index)"
   ]
  },
  {
   "cell_type": "code",
   "execution_count": 13,
   "metadata": {
    "colab": {
     "base_uri": "https://localhost:8080/"
    },
    "id": "UqeHc42VxI9E",
    "outputId": "51f89b24-5250-467d-d580-e1f2962e6c25"
   },
   "outputs": [
    {
     "data": {
      "text/plain": [
       "(16860, 87)"
      ]
     },
     "execution_count": 13,
     "metadata": {},
     "output_type": "execute_result"
    }
   ],
   "source": [
    "train_frame.shape"
   ]
  },
  {
   "cell_type": "code",
   "execution_count": 14,
   "metadata": {
    "id": "-uCNAp7OxI9N"
   },
   "outputs": [],
   "source": [
    "imputer = KNNImputer()\n",
    "without_nan = pd.DataFrame(data = imputer.fit_transform(train_frame.drop(['date'],axis = 1)),\n",
    "             columns= train_frame.drop(['date'],axis = 1).columns,\n",
    "             index = train_frame.index)"
   ]
  },
  {
   "cell_type": "code",
   "execution_count": 15,
   "metadata": {
    "id": "JRrduI8sxI9W"
   },
   "outputs": [],
   "source": [
    "def remove_ouliers(frame,column):\n",
    "    q25=np.array(frame[column].quantile(0.25))\n",
    "    \n",
    "    q75=np.array(frame[column].quantile(0.75))\n",
    "    first_part=q25-1*(q75-q25)\n",
    "    second_part=q75+1*(q75-q25)\n",
    "    del_index = []\n",
    "    for index_value, value in zip(frame[column].index,frame[column]):\n",
    "        if second_part <= value or value <= first_part:\n",
    "            del_index.append(index_value)\n",
    "    \n",
    "    print('Количество строк, выбранных для удаления: ',len(del_index))\n",
    "    return del_index"
   ]
  },
  {
   "cell_type": "code",
   "execution_count": 16,
   "metadata": {
    "id": "VIIhCWhKxI9f"
   },
   "outputs": [],
   "source": [
    "# without_nan_nan"
   ]
  },
  {
   "cell_type": "code",
   "execution_count": 17,
   "metadata": {
    "id": "GsC_sDAgxI9m"
   },
   "outputs": [],
   "source": [
    "# for column in without_nan.columns:\n",
    "#     indexes = remove_ouliers(without_nan,column)\n",
    "#     without_nan.drop(indexes,axis = 0,inplace = True)\n",
    "# for column in without_nan.columns:\n",
    "#     plt.boxplot(without_nan[column])\n",
    "#     plt.show()"
   ]
  },
  {
   "cell_type": "markdown",
   "metadata": {
    "id": "YACoKLSYxI9t"
   },
   "source": [
    "# 2. Анализ данных"
   ]
  },
  {
   "cell_type": "code",
   "execution_count": 18,
   "metadata": {
    "colab": {
     "base_uri": "https://localhost:8080/"
    },
    "id": "L30YDvIlxI9u",
    "outputId": "a146e5d3-997f-49ca-8b37-41f0e1526a15",
    "scrolled": true
   },
   "outputs": [
    {
     "name": "stdout",
     "output_type": "stream",
     "text": [
      "Концентрация после флотации\n",
      "Коцентрация Серебра: 10.55,Свинца: 6.86,Золота: 17.34\n",
      "\n",
      "Концентрация после первичной очистки\n",
      "Коцентрация Серебра: 7.40,Свинца: 8.53,Золота: 29.05\n",
      "\n",
      "Концентрация поле вторичной очистки\n",
      "Коцентрация Серебра: 4.71,Свинца: 9.10,Золота: 39.40\n"
     ]
    }
   ],
   "source": [
    "print(\"Концентрация после флотации\")\n",
    "print(\"Коцентрация Серебра:{: 0.2f},Свинца:{: 0.2f},Золота:{: 0.2f}\".\n",
    "format(without_nan[\"rougher.output.concentrate_ag\"].mean(),\n",
    "without_nan[\"rougher.output.concentrate_pb\"].mean(),\n",
    "without_nan[\"rougher.output.concentrate_au\"].mean()))\n",
    "print()\n",
    "print(\"Концентрация после первичной очистки\")\n",
    "print(\"Коцентрация Серебра:{: 0.2f},Свинца:{: 0.2f},Золота:{: 0.2f}\".\n",
    "format(without_nan[\"primary_cleaner.output.concentrate_ag\"].mean(),\n",
    "without_nan[\"primary_cleaner.output.concentrate_pb\"].mean(),\n",
    "without_nan[\"primary_cleaner.output.concentrate_au\"].mean()))\n",
    "print()\n",
    "print(\"Концентрация поле вторичной очистки\")\n",
    "print(\"Коцентрация Серебра:{: 0.2f},Свинца:{: 0.2f},Золота:{: 0.2f}\".\n",
    "format(without_nan[\"final.output.concentrate_ag\"].mean(),\n",
    "without_nan[\"final.output.concentrate_pb\"].mean(),\n",
    "without_nan[\"final.output.concentrate_au\"].mean()))"
   ]
  },
  {
   "cell_type": "markdown",
   "metadata": {
    "id": "LRu-HVTqxI9z"
   },
   "source": [
    "По представленным выше даннным отчетливо видно, что с каждым этапом увеличивается концентрация золата и свинца, так же можо заметить уменьшение концентрации серебра"
   ]
  },
  {
   "cell_type": "code",
   "execution_count": 19,
   "metadata": {
    "colab": {
     "base_uri": "https://localhost:8080/",
     "height": 770
    },
    "id": "Re-ZhzixxI9z",
    "outputId": "2c51ee7c-aa22-4077-d3c2-1269ec550c2e"
   },
   "outputs": [
    {
     "name": "stdout",
     "output_type": "stream",
     "text": [
      "Размер гранул поступащих на этап флотации в тренировочной выборке\n",
      "Среднне 58.52\n",
      "Медиана 53.97\n",
      "\n",
      "Размер гранул поступащих на этап флотации в тестовой выборке\n",
      "Среднее 55.94\n",
      "Медиана 50.0\n"
     ]
    },
    {
     "data": {
      "text/plain": [
       "(0.0, 200.0)"
      ]
     },
     "execution_count": 19,
     "metadata": {},
     "output_type": "execute_result"
    },
    {
     "data": {
      "image/png": "[encoded data removed]",
      "text/plain": [
       "<Figure size 1440x720 with 2 Axes>"
      ]
     },
     "metadata": {
      "needs_background": "light"
     },
     "output_type": "display_data"
    }
   ],
   "source": [
    "fig,ax = plt.subplots(2,1,figsize = (20,10))\n",
    "print(\"Размер гранул поступащих на этап флотации в тренировочной выборке\")\n",
    "print(\"Среднне\",round(without_nan[\"rougher.input.feed_size\"].mean(),2))\n",
    "print(\"Медиана\",round(without_nan[\"rougher.input.feed_size\"].median(),2))\n",
    "print()\n",
    "print(\"Размер гранул поступащих на этап флотации в тестовой выборке\")\n",
    "print(\"Среднее\",round(test_frame[\"rougher.input.feed_size\"].mean(),2))\n",
    "print(\"Медиана\",round(test_frame[\"rougher.input.feed_size\"].median(),2))\n",
    "ax[0].hist(without_nan[\"rougher.input.feed_size\"],bins = 40)\n",
    "ax[1].hist(test_frame[\"rougher.input.feed_size\"],bins = 40)\n",
    "ax[0].set_xlim(0,200)\n",
    "ax[1].set_xlim(0,200)"
   ]
  },
  {
   "cell_type": "markdown",
   "metadata": {
    "id": "Z5zmK3U8xI93"
   },
   "source": [
    "Мы можем видеть, что распределения немного отличаются. В тренеровчной выборке преобладают значения около порога 50 и выше, в то же время как в тестовой выборке достаточно большое количество объектов сконцентрированы до порога 50. Так же это заметно и на средних значениях, среднее значение тренеровочной выборки на 3 пункта больше среднего по тестовой выборке"
   ]
  },
  {
   "cell_type": "code",
   "execution_count": 20,
   "metadata": {
    "id": "tp4NwISTxI94"
   },
   "outputs": [],
   "source": [
    "def summary_of_concentarution(row):\n",
    "    list_of_steps = [\"rougher\",\"primary_cleaner\",\"final\"]\n",
    "    input_feed_au = row[\"rougher.input.feed_au\"]\n",
    "    input_feed_ag = row[\"rougher.input.feed_ag\"]\n",
    "    input_feed_pb = row[\"rougher.input.feed_pb\"]\n",
    "    input_feed_sol = row[\"rougher.input.feed_sol\"]\n",
    "    out_rougher = []\n",
    "    out_primary_cleaner = []\n",
    "    out_final = []\n",
    "    list_of_arrays =[out_rougher,out_primary_cleaner,out_final]\n",
    "    for step,array in zip(list_of_steps,list_of_arrays):\n",
    "        array.append(row[step+\".output.concentrate_au\"])\n",
    "        array.append(row[step+\".output.concentrate_ag\"])\n",
    "        array.append(row[step+\".output.concentrate_pb\"])\n",
    "        array.append(row[step+\".output.concentrate_sol\"])\n",
    "    sum_before_steps = input_feed_ag+input_feed_au+input_feed_pb+input_feed_sol\n",
    "    sum_rougher = sum(out_rougher)\n",
    "    sum_primary = sum(out_primary_cleaner)\n",
    "    sum_final = sum(out_final)\n",
    "    return pd.Series([sum_before_steps,sum_rougher,sum_primary,sum_final])\n",
    "    "
   ]
  },
  {
   "cell_type": "code",
   "execution_count": 21,
   "metadata": {
    "id": "ijLtt76bxI98",
    "scrolled": true
   },
   "outputs": [],
   "source": [
    "sum_values = without_nan.apply(summary_of_concentarution,axis = 1)\n",
    "sum_values.columns = [\"before_rougher\",\"rougher\",\"primary_cleaner\",\"final\"]"
   ]
  },
  {
   "cell_type": "code",
   "execution_count": 22,
   "metadata": {
    "colab": {
     "base_uri": "https://localhost:8080/",
     "height": 407
    },
    "id": "ttrcZn6axI9_",
    "outputId": "4adaec4b-019d-4c49-fabe-dbe0c73cb722",
    "scrolled": false
   },
   "outputs": [
    {
     "data": {
      "text/html": [
       "<div>\n",
       "<style scoped>\n",
       "    .dataframe tbody tr th:only-of-type {\n",
       "        vertical-align: middle;\n",
       "    }\n",
       "\n",
       "    .dataframe tbody tr th {\n",
       "        vertical-align: top;\n",
       "    }\n",
       "\n",
       "    .dataframe thead th {\n",
       "        text-align: right;\n",
       "    }\n",
       "</style>\n",
       "<table border=\"1\" class=\"dataframe\">\n",
       "  <thead>\n",
       "    <tr style=\"text-align: right;\">\n",
       "      <th></th>\n",
       "      <th>before_rougher</th>\n",
       "      <th>rougher</th>\n",
       "      <th>primary_cleaner</th>\n",
       "      <th>final</th>\n",
       "    </tr>\n",
       "  </thead>\n",
       "  <tbody>\n",
       "    <tr>\n",
       "      <th>0</th>\n",
       "      <td>51.680034</td>\n",
       "      <td>66.424950</td>\n",
       "      <td>72.640924</td>\n",
       "      <td>63.644396</td>\n",
       "    </tr>\n",
       "    <tr>\n",
       "      <th>1</th>\n",
       "      <td>50.659114</td>\n",
       "      <td>67.012710</td>\n",
       "      <td>72.543485</td>\n",
       "      <td>63.957723</td>\n",
       "    </tr>\n",
       "    <tr>\n",
       "      <th>2</th>\n",
       "      <td>50.609929</td>\n",
       "      <td>66.103793</td>\n",
       "      <td>72.095042</td>\n",
       "      <td>64.311180</td>\n",
       "    </tr>\n",
       "    <tr>\n",
       "      <th>3</th>\n",
       "      <td>51.061546</td>\n",
       "      <td>65.752751</td>\n",
       "      <td>59.957723</td>\n",
       "      <td>63.573449</td>\n",
       "    </tr>\n",
       "    <tr>\n",
       "      <th>4</th>\n",
       "      <td>47.859163</td>\n",
       "      <td>65.908382</td>\n",
       "      <td>71.321010</td>\n",
       "      <td>64.004667</td>\n",
       "    </tr>\n",
       "    <tr>\n",
       "      <th>...</th>\n",
       "      <td>...</td>\n",
       "      <td>...</td>\n",
       "      <td>...</td>\n",
       "      <td>...</td>\n",
       "    </tr>\n",
       "    <tr>\n",
       "      <th>16855</th>\n",
       "      <td>53.415050</td>\n",
       "      <td>70.781325</td>\n",
       "      <td>59.001692</td>\n",
       "      <td>68.098589</td>\n",
       "    </tr>\n",
       "    <tr>\n",
       "      <th>16856</th>\n",
       "      <td>53.696482</td>\n",
       "      <td>70.539603</td>\n",
       "      <td>59.703912</td>\n",
       "      <td>68.274362</td>\n",
       "    </tr>\n",
       "    <tr>\n",
       "      <th>16857</th>\n",
       "      <td>54.589604</td>\n",
       "      <td>55.376330</td>\n",
       "      <td>59.561096</td>\n",
       "      <td>68.226068</td>\n",
       "    </tr>\n",
       "    <tr>\n",
       "      <th>16858</th>\n",
       "      <td>54.027355</td>\n",
       "      <td>69.201689</td>\n",
       "      <td>57.216686</td>\n",
       "      <td>68.200449</td>\n",
       "    </tr>\n",
       "    <tr>\n",
       "      <th>16859</th>\n",
       "      <td>53.535054</td>\n",
       "      <td>69.544003</td>\n",
       "      <td>55.748041</td>\n",
       "      <td>68.353154</td>\n",
       "    </tr>\n",
       "  </tbody>\n",
       "</table>\n",
       "<p>16860 rows × 4 columns</p>\n",
       "</div>"
      ],
      "text/plain": [
       "       before_rougher    rougher  primary_cleaner      final\n",
       "0           51.680034  66.424950        72.640924  63.644396\n",
       "1           50.659114  67.012710        72.543485  63.957723\n",
       "2           50.609929  66.103793        72.095042  64.311180\n",
       "3           51.061546  65.752751        59.957723  63.573449\n",
       "4           47.859163  65.908382        71.321010  64.004667\n",
       "...               ...        ...              ...        ...\n",
       "16855       53.415050  70.781325        59.001692  68.098589\n",
       "16856       53.696482  70.539603        59.703912  68.274362\n",
       "16857       54.589604  55.376330        59.561096  68.226068\n",
       "16858       54.027355  69.201689        57.216686  68.200449\n",
       "16859       53.535054  69.544003        55.748041  68.353154\n",
       "\n",
       "[16860 rows x 4 columns]"
      ]
     },
     "execution_count": 22,
     "metadata": {},
     "output_type": "execute_result"
    }
   ],
   "source": [
    "sum_values"
   ]
  },
  {
   "cell_type": "code",
   "execution_count": 23,
   "metadata": {
    "colab": {
     "base_uri": "https://localhost:8080/",
     "height": 407
    },
    "id": "RWodH9hRxI-D",
    "outputId": "1c182b0f-c8eb-4cd4-98a0-3c06d51b78f4"
   },
   "outputs": [
    {
     "data": {
      "text/html": [
       "<div>\n",
       "<style scoped>\n",
       "    .dataframe tbody tr th:only-of-type {\n",
       "        vertical-align: middle;\n",
       "    }\n",
       "\n",
       "    .dataframe tbody tr th {\n",
       "        vertical-align: top;\n",
       "    }\n",
       "\n",
       "    .dataframe thead th {\n",
       "        text-align: right;\n",
       "    }\n",
       "</style>\n",
       "<table border=\"1\" class=\"dataframe\">\n",
       "  <thead>\n",
       "    <tr style=\"text-align: right;\">\n",
       "      <th></th>\n",
       "      <th>before_rougher</th>\n",
       "      <th>rougher</th>\n",
       "      <th>primary_cleaner</th>\n",
       "      <th>final</th>\n",
       "    </tr>\n",
       "  </thead>\n",
       "  <tbody>\n",
       "    <tr>\n",
       "      <th>49</th>\n",
       "      <td>0.204164</td>\n",
       "      <td>0.000000</td>\n",
       "      <td>71.383134</td>\n",
       "      <td>67.709214</td>\n",
       "    </tr>\n",
       "    <tr>\n",
       "      <th>99</th>\n",
       "      <td>0.000000</td>\n",
       "      <td>0.000000</td>\n",
       "      <td>0.000000</td>\n",
       "      <td>0.000000</td>\n",
       "    </tr>\n",
       "    <tr>\n",
       "      <th>100</th>\n",
       "      <td>0.000000</td>\n",
       "      <td>0.000000</td>\n",
       "      <td>0.000000</td>\n",
       "      <td>0.000000</td>\n",
       "    </tr>\n",
       "    <tr>\n",
       "      <th>101</th>\n",
       "      <td>0.000000</td>\n",
       "      <td>0.000000</td>\n",
       "      <td>0.000000</td>\n",
       "      <td>0.000000</td>\n",
       "    </tr>\n",
       "    <tr>\n",
       "      <th>102</th>\n",
       "      <td>0.000000</td>\n",
       "      <td>0.000000</td>\n",
       "      <td>0.000000</td>\n",
       "      <td>0.000000</td>\n",
       "    </tr>\n",
       "    <tr>\n",
       "      <th>...</th>\n",
       "      <td>...</td>\n",
       "      <td>...</td>\n",
       "      <td>...</td>\n",
       "      <td>...</td>\n",
       "    </tr>\n",
       "    <tr>\n",
       "      <th>16607</th>\n",
       "      <td>0.040000</td>\n",
       "      <td>14.518554</td>\n",
       "      <td>6.024765</td>\n",
       "      <td>3.676390</td>\n",
       "    </tr>\n",
       "    <tr>\n",
       "      <th>16608</th>\n",
       "      <td>0.040000</td>\n",
       "      <td>0.040000</td>\n",
       "      <td>0.040000</td>\n",
       "      <td>0.040000</td>\n",
       "    </tr>\n",
       "    <tr>\n",
       "      <th>16609</th>\n",
       "      <td>0.040000</td>\n",
       "      <td>0.040000</td>\n",
       "      <td>0.040000</td>\n",
       "      <td>0.040000</td>\n",
       "    </tr>\n",
       "    <tr>\n",
       "      <th>16610</th>\n",
       "      <td>0.040000</td>\n",
       "      <td>0.040000</td>\n",
       "      <td>0.040000</td>\n",
       "      <td>0.040000</td>\n",
       "    </tr>\n",
       "    <tr>\n",
       "      <th>16611</th>\n",
       "      <td>0.040000</td>\n",
       "      <td>0.040000</td>\n",
       "      <td>0.040000</td>\n",
       "      <td>0.040000</td>\n",
       "    </tr>\n",
       "  </tbody>\n",
       "</table>\n",
       "<p>1565 rows × 4 columns</p>\n",
       "</div>"
      ],
      "text/plain": [
       "       before_rougher    rougher  primary_cleaner      final\n",
       "49           0.204164   0.000000        71.383134  67.709214\n",
       "99           0.000000   0.000000         0.000000   0.000000\n",
       "100          0.000000   0.000000         0.000000   0.000000\n",
       "101          0.000000   0.000000         0.000000   0.000000\n",
       "102          0.000000   0.000000         0.000000   0.000000\n",
       "...               ...        ...              ...        ...\n",
       "16607        0.040000  14.518554         6.024765   3.676390\n",
       "16608        0.040000   0.040000         0.040000   0.040000\n",
       "16609        0.040000   0.040000         0.040000   0.040000\n",
       "16610        0.040000   0.040000         0.040000   0.040000\n",
       "16611        0.040000   0.040000         0.040000   0.040000\n",
       "\n",
       "[1565 rows x 4 columns]"
      ]
     },
     "execution_count": 23,
     "metadata": {},
     "output_type": "execute_result"
    }
   ],
   "source": [
    "sum_values.query(\"before_rougher < 5\")"
   ]
  },
  {
   "cell_type": "code",
   "execution_count": 24,
   "metadata": {
    "colab": {
     "base_uri": "https://localhost:8080/",
     "height": 1000
    },
    "id": "3zMTQ0M5xI-G",
    "outputId": "ce9f0ed9-0fe0-43c3-afa6-1331c3454122",
    "scrolled": true
   },
   "outputs": [
    {
     "data": {
      "image/png": "[encoded data removed]",
      "text/plain": [
       "<Figure size 1440x2160 with 4 Axes>"
      ]
     },
     "metadata": {
      "needs_background": "light"
     },
     "output_type": "display_data"
    }
   ],
   "source": [
    "fig,ax = plt.subplots(4,1,figsize = (20,30))\n",
    "\n",
    "ax[0].hist(sum_values[\"before_rougher\"],bins = 40)\n",
    "ax[1].hist(sum_values[\"rougher\"],bins = 40)\n",
    "ax[2].hist(sum_values[\"primary_cleaner\"],bins = 40)\n",
    "ax[3].hist(sum_values[\"final\"],bins = 40)\n",
    "plt.show()"
   ]
  },
  {
   "cell_type": "markdown",
   "metadata": {
    "id": "C_LHaZeWxI-K"
   },
   "source": [
    "Можно заметить, что во всех распределениях присутсвует пик около нулевого значения. Он очень далек от общего распределения, его следует удалить. Так же это стоит проделать и в тестовой выборке, так они носят характер выбросов "
   ]
  },
  {
   "cell_type": "code",
   "execution_count": 25,
   "metadata": {
    "colab": {
     "base_uri": "https://localhost:8080/"
    },
    "id": "iJnIbPWexI-L",
    "outputId": "ab257797-d534-47b1-d1e7-433316c129f6",
    "scrolled": true
   },
   "outputs": [
    {
     "data": {
      "text/plain": [
       "(16860, 86)"
      ]
     },
     "execution_count": 25,
     "metadata": {},
     "output_type": "execute_result"
    }
   ],
   "source": [
    "without_nan.shape"
   ]
  },
  {
   "cell_type": "code",
   "execution_count": 26,
   "metadata": {
    "colab": {
     "base_uri": "https://localhost:8080/",
     "height": 427
    },
    "id": "Wq5AFKNDxI-Q",
    "outputId": "c2ce8b1f-4f29-45a1-a970-363fabbad2be"
   },
   "outputs": [
    {
     "data": {
      "text/html": [
       "<div>\n",
       "<style scoped>\n",
       "    .dataframe tbody tr th:only-of-type {\n",
       "        vertical-align: middle;\n",
       "    }\n",
       "\n",
       "    .dataframe tbody tr th {\n",
       "        vertical-align: top;\n",
       "    }\n",
       "\n",
       "    .dataframe thead th {\n",
       "        text-align: right;\n",
       "    }\n",
       "</style>\n",
       "<table border=\"1\" class=\"dataframe\">\n",
       "  <thead>\n",
       "    <tr style=\"text-align: right;\">\n",
       "      <th></th>\n",
       "      <th>final.output.concentrate_ag</th>\n",
       "      <th>final.output.concentrate_pb</th>\n",
       "      <th>final.output.concentrate_sol</th>\n",
       "      <th>final.output.concentrate_au</th>\n",
       "      <th>final.output.recovery</th>\n",
       "      <th>final.output.tail_ag</th>\n",
       "      <th>final.output.tail_pb</th>\n",
       "      <th>final.output.tail_sol</th>\n",
       "      <th>final.output.tail_au</th>\n",
       "      <th>primary_cleaner.input.sulfate</th>\n",
       "      <th>...</th>\n",
       "      <th>secondary_cleaner.state.floatbank4_a_air</th>\n",
       "      <th>secondary_cleaner.state.floatbank4_a_level</th>\n",
       "      <th>secondary_cleaner.state.floatbank4_b_air</th>\n",
       "      <th>secondary_cleaner.state.floatbank4_b_level</th>\n",
       "      <th>secondary_cleaner.state.floatbank5_a_air</th>\n",
       "      <th>secondary_cleaner.state.floatbank5_a_level</th>\n",
       "      <th>secondary_cleaner.state.floatbank5_b_air</th>\n",
       "      <th>secondary_cleaner.state.floatbank5_b_level</th>\n",
       "      <th>secondary_cleaner.state.floatbank6_a_air</th>\n",
       "      <th>secondary_cleaner.state.floatbank6_a_level</th>\n",
       "    </tr>\n",
       "  </thead>\n",
       "  <tbody>\n",
       "    <tr>\n",
       "      <th>99</th>\n",
       "      <td>0.0</td>\n",
       "      <td>0.0</td>\n",
       "      <td>0.0</td>\n",
       "      <td>0.0</td>\n",
       "      <td>51.594859</td>\n",
       "      <td>0.0</td>\n",
       "      <td>0.0</td>\n",
       "      <td>0.0</td>\n",
       "      <td>0.0</td>\n",
       "      <td>2.116168</td>\n",
       "      <td>...</td>\n",
       "      <td>13.985160</td>\n",
       "      <td>-799.601232</td>\n",
       "      <td>12.036072</td>\n",
       "      <td>-603.234250</td>\n",
       "      <td>9.974968</td>\n",
       "      <td>-497.092974</td>\n",
       "      <td>7.953962</td>\n",
       "      <td>-499.698442</td>\n",
       "      <td>11.941642</td>\n",
       "      <td>-598.541756</td>\n",
       "    </tr>\n",
       "    <tr>\n",
       "      <th>100</th>\n",
       "      <td>0.0</td>\n",
       "      <td>0.0</td>\n",
       "      <td>0.0</td>\n",
       "      <td>0.0</td>\n",
       "      <td>87.476755</td>\n",
       "      <td>0.0</td>\n",
       "      <td>0.0</td>\n",
       "      <td>0.0</td>\n",
       "      <td>0.0</td>\n",
       "      <td>27.474557</td>\n",
       "      <td>...</td>\n",
       "      <td>14.034374</td>\n",
       "      <td>-799.600946</td>\n",
       "      <td>12.040491</td>\n",
       "      <td>-623.446329</td>\n",
       "      <td>9.898782</td>\n",
       "      <td>-499.623262</td>\n",
       "      <td>7.979302</td>\n",
       "      <td>-500.283366</td>\n",
       "      <td>11.959950</td>\n",
       "      <td>-600.998301</td>\n",
       "    </tr>\n",
       "    <tr>\n",
       "      <th>101</th>\n",
       "      <td>0.0</td>\n",
       "      <td>0.0</td>\n",
       "      <td>0.0</td>\n",
       "      <td>0.0</td>\n",
       "      <td>94.851472</td>\n",
       "      <td>0.0</td>\n",
       "      <td>0.0</td>\n",
       "      <td>0.0</td>\n",
       "      <td>0.0</td>\n",
       "      <td>28.838364</td>\n",
       "      <td>...</td>\n",
       "      <td>13.943929</td>\n",
       "      <td>-799.600659</td>\n",
       "      <td>12.040238</td>\n",
       "      <td>-638.103348</td>\n",
       "      <td>9.956309</td>\n",
       "      <td>-499.791870</td>\n",
       "      <td>7.978806</td>\n",
       "      <td>-500.202026</td>\n",
       "      <td>11.987839</td>\n",
       "      <td>-600.302819</td>\n",
       "    </tr>\n",
       "    <tr>\n",
       "      <th>102</th>\n",
       "      <td>0.0</td>\n",
       "      <td>0.0</td>\n",
       "      <td>0.0</td>\n",
       "      <td>0.0</td>\n",
       "      <td>94.851472</td>\n",
       "      <td>0.0</td>\n",
       "      <td>0.0</td>\n",
       "      <td>0.0</td>\n",
       "      <td>0.0</td>\n",
       "      <td>28.124272</td>\n",
       "      <td>...</td>\n",
       "      <td>14.040873</td>\n",
       "      <td>-799.600372</td>\n",
       "      <td>12.030771</td>\n",
       "      <td>-641.310327</td>\n",
       "      <td>9.966952</td>\n",
       "      <td>-499.842458</td>\n",
       "      <td>8.053455</td>\n",
       "      <td>-499.588522</td>\n",
       "      <td>11.987935</td>\n",
       "      <td>-600.523057</td>\n",
       "    </tr>\n",
       "    <tr>\n",
       "      <th>103</th>\n",
       "      <td>0.0</td>\n",
       "      <td>0.0</td>\n",
       "      <td>0.0</td>\n",
       "      <td>0.0</td>\n",
       "      <td>94.851472</td>\n",
       "      <td>0.0</td>\n",
       "      <td>0.0</td>\n",
       "      <td>0.0</td>\n",
       "      <td>0.0</td>\n",
       "      <td>31.959129</td>\n",
       "      <td>...</td>\n",
       "      <td>13.972371</td>\n",
       "      <td>-799.600085</td>\n",
       "      <td>12.021058</td>\n",
       "      <td>-641.457227</td>\n",
       "      <td>10.033820</td>\n",
       "      <td>-501.291438</td>\n",
       "      <td>7.985956</td>\n",
       "      <td>-499.934267</td>\n",
       "      <td>12.027556</td>\n",
       "      <td>-600.108918</td>\n",
       "    </tr>\n",
       "    <tr>\n",
       "      <th>...</th>\n",
       "      <td>...</td>\n",
       "      <td>...</td>\n",
       "      <td>...</td>\n",
       "      <td>...</td>\n",
       "      <td>...</td>\n",
       "      <td>...</td>\n",
       "      <td>...</td>\n",
       "      <td>...</td>\n",
       "      <td>...</td>\n",
       "      <td>...</td>\n",
       "      <td>...</td>\n",
       "      <td>...</td>\n",
       "      <td>...</td>\n",
       "      <td>...</td>\n",
       "      <td>...</td>\n",
       "      <td>...</td>\n",
       "      <td>...</td>\n",
       "      <td>...</td>\n",
       "      <td>...</td>\n",
       "      <td>...</td>\n",
       "      <td>...</td>\n",
       "    </tr>\n",
       "    <tr>\n",
       "      <th>12052</th>\n",
       "      <td>0.0</td>\n",
       "      <td>0.0</td>\n",
       "      <td>0.0</td>\n",
       "      <td>0.0</td>\n",
       "      <td>94.851472</td>\n",
       "      <td>0.0</td>\n",
       "      <td>0.0</td>\n",
       "      <td>0.0</td>\n",
       "      <td>0.0</td>\n",
       "      <td>36.048913</td>\n",
       "      <td>...</td>\n",
       "      <td>20.005303</td>\n",
       "      <td>-500.893527</td>\n",
       "      <td>14.922286</td>\n",
       "      <td>-500.230461</td>\n",
       "      <td>10.909829</td>\n",
       "      <td>-500.314837</td>\n",
       "      <td>9.007956</td>\n",
       "      <td>-500.153163</td>\n",
       "      <td>10.988968</td>\n",
       "      <td>-500.387261</td>\n",
       "    </tr>\n",
       "    <tr>\n",
       "      <th>12053</th>\n",
       "      <td>0.0</td>\n",
       "      <td>0.0</td>\n",
       "      <td>0.0</td>\n",
       "      <td>0.0</td>\n",
       "      <td>94.851472</td>\n",
       "      <td>0.0</td>\n",
       "      <td>0.0</td>\n",
       "      <td>0.0</td>\n",
       "      <td>0.0</td>\n",
       "      <td>36.201845</td>\n",
       "      <td>...</td>\n",
       "      <td>19.962859</td>\n",
       "      <td>-655.489381</td>\n",
       "      <td>14.956567</td>\n",
       "      <td>-524.758657</td>\n",
       "      <td>10.961487</td>\n",
       "      <td>-500.066426</td>\n",
       "      <td>9.004925</td>\n",
       "      <td>-500.040902</td>\n",
       "      <td>10.961121</td>\n",
       "      <td>-500.023096</td>\n",
       "    </tr>\n",
       "    <tr>\n",
       "      <th>12054</th>\n",
       "      <td>0.0</td>\n",
       "      <td>0.0</td>\n",
       "      <td>0.0</td>\n",
       "      <td>0.0</td>\n",
       "      <td>94.851472</td>\n",
       "      <td>0.0</td>\n",
       "      <td>0.0</td>\n",
       "      <td>0.0</td>\n",
       "      <td>0.0</td>\n",
       "      <td>36.048913</td>\n",
       "      <td>...</td>\n",
       "      <td>20.017100</td>\n",
       "      <td>-523.801393</td>\n",
       "      <td>15.013965</td>\n",
       "      <td>-499.995375</td>\n",
       "      <td>10.991333</td>\n",
       "      <td>-499.941268</td>\n",
       "      <td>9.062215</td>\n",
       "      <td>-499.992738</td>\n",
       "      <td>10.996987</td>\n",
       "      <td>-499.871678</td>\n",
       "    </tr>\n",
       "    <tr>\n",
       "      <th>12055</th>\n",
       "      <td>0.0</td>\n",
       "      <td>0.0</td>\n",
       "      <td>0.0</td>\n",
       "      <td>0.0</td>\n",
       "      <td>94.851472</td>\n",
       "      <td>0.0</td>\n",
       "      <td>0.0</td>\n",
       "      <td>0.0</td>\n",
       "      <td>0.0</td>\n",
       "      <td>36.048913</td>\n",
       "      <td>...</td>\n",
       "      <td>19.947963</td>\n",
       "      <td>-521.792599</td>\n",
       "      <td>15.041185</td>\n",
       "      <td>-500.303435</td>\n",
       "      <td>10.980523</td>\n",
       "      <td>-500.095725</td>\n",
       "      <td>9.041985</td>\n",
       "      <td>-499.916563</td>\n",
       "      <td>11.010581</td>\n",
       "      <td>-500.083532</td>\n",
       "    </tr>\n",
       "    <tr>\n",
       "      <th>12056</th>\n",
       "      <td>0.0</td>\n",
       "      <td>0.0</td>\n",
       "      <td>0.0</td>\n",
       "      <td>0.0</td>\n",
       "      <td>94.851472</td>\n",
       "      <td>0.0</td>\n",
       "      <td>0.0</td>\n",
       "      <td>0.0</td>\n",
       "      <td>0.0</td>\n",
       "      <td>36.048913</td>\n",
       "      <td>...</td>\n",
       "      <td>19.979025</td>\n",
       "      <td>-569.020440</td>\n",
       "      <td>15.068404</td>\n",
       "      <td>-499.966176</td>\n",
       "      <td>10.950164</td>\n",
       "      <td>-499.910890</td>\n",
       "      <td>9.016255</td>\n",
       "      <td>-499.821464</td>\n",
       "      <td>11.006784</td>\n",
       "      <td>-499.988820</td>\n",
       "    </tr>\n",
       "  </tbody>\n",
       "</table>\n",
       "<p>1166 rows × 86 columns</p>\n",
       "</div>"
      ],
      "text/plain": [
       "       final.output.concentrate_ag  final.output.concentrate_pb  \\\n",
       "99                             0.0                          0.0   \n",
       "100                            0.0                          0.0   \n",
       "101                            0.0                          0.0   \n",
       "102                            0.0                          0.0   \n",
       "103                            0.0                          0.0   \n",
       "...                            ...                          ...   \n",
       "12052                          0.0                          0.0   \n",
       "12053                          0.0                          0.0   \n",
       "12054                          0.0                          0.0   \n",
       "12055                          0.0                          0.0   \n",
       "12056                          0.0                          0.0   \n",
       "\n",
       "       final.output.concentrate_sol  final.output.concentrate_au  \\\n",
       "99                              0.0                          0.0   \n",
       "100                             0.0                          0.0   \n",
       "101                             0.0                          0.0   \n",
       "102                             0.0                          0.0   \n",
       "103                             0.0                          0.0   \n",
       "...                             ...                          ...   \n",
       "12052                           0.0                          0.0   \n",
       "12053                           0.0                          0.0   \n",
       "12054                           0.0                          0.0   \n",
       "12055                           0.0                          0.0   \n",
       "12056                           0.0                          0.0   \n",
       "\n",
       "       final.output.recovery  final.output.tail_ag  final.output.tail_pb  \\\n",
       "99                 51.594859                   0.0                   0.0   \n",
       "100                87.476755                   0.0                   0.0   \n",
       "101                94.851472                   0.0                   0.0   \n",
       "102                94.851472                   0.0                   0.0   \n",
       "103                94.851472                   0.0                   0.0   \n",
       "...                      ...                   ...                   ...   \n",
       "12052              94.851472                   0.0                   0.0   \n",
       "12053              94.851472                   0.0                   0.0   \n",
       "12054              94.851472                   0.0                   0.0   \n",
       "12055              94.851472                   0.0                   0.0   \n",
       "12056              94.851472                   0.0                   0.0   \n",
       "\n",
       "       final.output.tail_sol  final.output.tail_au  \\\n",
       "99                       0.0                   0.0   \n",
       "100                      0.0                   0.0   \n",
       "101                      0.0                   0.0   \n",
       "102                      0.0                   0.0   \n",
       "103                      0.0                   0.0   \n",
       "...                      ...                   ...   \n",
       "12052                    0.0                   0.0   \n",
       "12053                    0.0                   0.0   \n",
       "12054                    0.0                   0.0   \n",
       "12055                    0.0                   0.0   \n",
       "12056                    0.0                   0.0   \n",
       "\n",
       "       primary_cleaner.input.sulfate  ...  \\\n",
       "99                          2.116168  ...   \n",
       "100                        27.474557  ...   \n",
       "101                        28.838364  ...   \n",
       "102                        28.124272  ...   \n",
       "103                        31.959129  ...   \n",
       "...                              ...  ...   \n",
       "12052                      36.048913  ...   \n",
       "12053                      36.201845  ...   \n",
       "12054                      36.048913  ...   \n",
       "12055                      36.048913  ...   \n",
       "12056                      36.048913  ...   \n",
       "\n",
       "       secondary_cleaner.state.floatbank4_a_air  \\\n",
       "99                                    13.985160   \n",
       "100                                   14.034374   \n",
       "101                                   13.943929   \n",
       "102                                   14.040873   \n",
       "103                                   13.972371   \n",
       "...                                         ...   \n",
       "12052                                 20.005303   \n",
       "12053                                 19.962859   \n",
       "12054                                 20.017100   \n",
       "12055                                 19.947963   \n",
       "12056                                 19.979025   \n",
       "\n",
       "       secondary_cleaner.state.floatbank4_a_level  \\\n",
       "99                                    -799.601232   \n",
       "100                                   -799.600946   \n",
       "101                                   -799.600659   \n",
       "102                                   -799.600372   \n",
       "103                                   -799.600085   \n",
       "...                                           ...   \n",
       "12052                                 -500.893527   \n",
       "12053                                 -655.489381   \n",
       "12054                                 -523.801393   \n",
       "12055                                 -521.792599   \n",
       "12056                                 -569.020440   \n",
       "\n",
       "       secondary_cleaner.state.floatbank4_b_air  \\\n",
       "99                                    12.036072   \n",
       "100                                   12.040491   \n",
       "101                                   12.040238   \n",
       "102                                   12.030771   \n",
       "103                                   12.021058   \n",
       "...                                         ...   \n",
       "12052                                 14.922286   \n",
       "12053                                 14.956567   \n",
       "12054                                 15.013965   \n",
       "12055                                 15.041185   \n",
       "12056                                 15.068404   \n",
       "\n",
       "       secondary_cleaner.state.floatbank4_b_level  \\\n",
       "99                                    -603.234250   \n",
       "100                                   -623.446329   \n",
       "101                                   -638.103348   \n",
       "102                                   -641.310327   \n",
       "103                                   -641.457227   \n",
       "...                                           ...   \n",
       "12052                                 -500.230461   \n",
       "12053                                 -524.758657   \n",
       "12054                                 -499.995375   \n",
       "12055                                 -500.303435   \n",
       "12056                                 -499.966176   \n",
       "\n",
       "       secondary_cleaner.state.floatbank5_a_air  \\\n",
       "99                                     9.974968   \n",
       "100                                    9.898782   \n",
       "101                                    9.956309   \n",
       "102                                    9.966952   \n",
       "103                                   10.033820   \n",
       "...                                         ...   \n",
       "12052                                 10.909829   \n",
       "12053                                 10.961487   \n",
       "12054                                 10.991333   \n",
       "12055                                 10.980523   \n",
       "12056                                 10.950164   \n",
       "\n",
       "       secondary_cleaner.state.floatbank5_a_level  \\\n",
       "99                                    -497.092974   \n",
       "100                                   -499.623262   \n",
       "101                                   -499.791870   \n",
       "102                                   -499.842458   \n",
       "103                                   -501.291438   \n",
       "...                                           ...   \n",
       "12052                                 -500.314837   \n",
       "12053                                 -500.066426   \n",
       "12054                                 -499.941268   \n",
       "12055                                 -500.095725   \n",
       "12056                                 -499.910890   \n",
       "\n",
       "       secondary_cleaner.state.floatbank5_b_air  \\\n",
       "99                                     7.953962   \n",
       "100                                    7.979302   \n",
       "101                                    7.978806   \n",
       "102                                    8.053455   \n",
       "103                                    7.985956   \n",
       "...                                         ...   \n",
       "12052                                  9.007956   \n",
       "12053                                  9.004925   \n",
       "12054                                  9.062215   \n",
       "12055                                  9.041985   \n",
       "12056                                  9.016255   \n",
       "\n",
       "       secondary_cleaner.state.floatbank5_b_level  \\\n",
       "99                                    -499.698442   \n",
       "100                                   -500.283366   \n",
       "101                                   -500.202026   \n",
       "102                                   -499.588522   \n",
       "103                                   -499.934267   \n",
       "...                                           ...   \n",
       "12052                                 -500.153163   \n",
       "12053                                 -500.040902   \n",
       "12054                                 -499.992738   \n",
       "12055                                 -499.916563   \n",
       "12056                                 -499.821464   \n",
       "\n",
       "       secondary_cleaner.state.floatbank6_a_air  \\\n",
       "99                                    11.941642   \n",
       "100                                   11.959950   \n",
       "101                                   11.987839   \n",
       "102                                   11.987935   \n",
       "103                                   12.027556   \n",
       "...                                         ...   \n",
       "12052                                 10.988968   \n",
       "12053                                 10.961121   \n",
       "12054                                 10.996987   \n",
       "12055                                 11.010581   \n",
       "12056                                 11.006784   \n",
       "\n",
       "       secondary_cleaner.state.floatbank6_a_level  \n",
       "99                                    -598.541756  \n",
       "100                                   -600.998301  \n",
       "101                                   -600.302819  \n",
       "102                                   -600.523057  \n",
       "103                                   -600.108918  \n",
       "...                                           ...  \n",
       "12052                                 -500.387261  \n",
       "12053                                 -500.023096  \n",
       "12054                                 -499.871678  \n",
       "12055                                 -500.083532  \n",
       "12056                                 -499.988820  \n",
       "\n",
       "[1166 rows x 86 columns]"
      ]
     },
     "execution_count": 26,
     "metadata": {},
     "output_type": "execute_result"
    }
   ],
   "source": [
    "without_nan[without_nan[\"rougher.input.feed_au\"] == 0]"
   ]
  },
  {
   "cell_type": "code",
   "execution_count": 27,
   "metadata": {
    "id": "VeX34UU6xI-T"
   },
   "outputs": [],
   "source": [
    "without_nan = without_nan.drop(index = without_nan[without_nan[\"rougher.input.feed_au\"] < 1].index,\n",
    "                               axis = 0)\n",
    "without_nan = without_nan.drop(index = without_nan[without_nan[\"rougher.input.feed_ag\"] < 1].index,\n",
    "                               axis = 0)\n",
    "without_nan = without_nan.drop(index = without_nan[without_nan[\"rougher.input.feed_pb\"] < 1].index,\n",
    "                               axis = 0)\n",
    "without_nan = without_nan.drop(index = without_nan[without_nan[\"rougher.input.feed_sol\"] < 1].index,\n",
    "                               axis = 0)\n",
    "\n",
    "\n",
    "without_nan = without_nan.drop(index = without_nan[without_nan[\"rougher.output.concentrate_au\"] < 1].index,\n",
    "                               axis = 0)\n",
    "without_nan = without_nan.drop(index = without_nan[without_nan[\"rougher.output.concentrate_ag\"] < 1].index,\n",
    "                               axis = 0)\n",
    "without_nan = without_nan.drop(index = without_nan[without_nan[\"rougher.output.concentrate_pb\"] < 1].index,\n",
    "                               axis = 0)\n",
    "without_nan = without_nan.drop(index = without_nan[without_nan[\"rougher.output.concentrate_sol\"] < 1].index,\n",
    "                               axis = 0)\n",
    "\n",
    "without_nan = without_nan.drop(index = without_nan[without_nan[\"primary_cleaner.output.concentrate_au\"] < 1].index,\n",
    "                               axis = 0)\n",
    "without_nan = without_nan.drop(index = without_nan[without_nan[\"primary_cleaner.output.concentrate_ag\"] < 1].index,\n",
    "                               axis = 0)\n",
    "without_nan = without_nan.drop(index = without_nan[without_nan[\"primary_cleaner.output.concentrate_pb\"] < 1].index,\n",
    "                               axis = 0)\n",
    "without_nan = without_nan.drop(index = without_nan[without_nan[\"primary_cleaner.output.concentrate_sol\"] < 1].index,\n",
    "                               axis = 0)\n",
    "\n",
    "without_nan = without_nan.drop(index = without_nan[without_nan[\"final.output.concentrate_au\"] < 1].index,\n",
    "                               axis = 0)\n",
    "without_nan = without_nan.drop(index = without_nan[without_nan[\"final.output.concentrate_ag\"] < 1].index,\n",
    "                               axis = 0)\n",
    "without_nan = without_nan.drop(index = without_nan[without_nan[\"final.output.concentrate_pb\"] < 1].index,\n",
    "                               axis = 0)\n",
    "without_nan = without_nan.drop(index = without_nan[without_nan[\"final.output.concentrate_sol\"] < 1].index,\n",
    "                               axis = 0)\n"
   ]
  },
  {
   "cell_type": "code",
   "execution_count": 28,
   "metadata": {
    "colab": {
     "base_uri": "https://localhost:8080/"
    },
    "id": "FwLuw3F04dOe",
    "outputId": "57d7d978-2a5d-418e-9e0e-6d708333d880"
   },
   "outputs": [
    {
     "data": {
      "text/plain": [
       "(5856, 53)"
      ]
     },
     "execution_count": 28,
     "metadata": {},
     "output_type": "execute_result"
    }
   ],
   "source": [
    "test_frame.shape"
   ]
  },
  {
   "cell_type": "code",
   "execution_count": 29,
   "metadata": {
    "id": "ETIza0b7xI-V"
   },
   "outputs": [],
   "source": [
    "test_frame = test_frame.drop(index = test_frame[test_frame[\"rougher.input.feed_au\"] < 1].index,\n",
    "                               axis = 0)\n",
    "test_frame = test_frame.drop(index = test_frame[test_frame[\"rougher.input.feed_ag\"] < 1].index,\n",
    "                               axis = 0)\n",
    "test_frame = test_frame.drop(index = test_frame[test_frame[\"rougher.input.feed_pb\"] < 1].index,\n",
    "                               axis = 0)\n",
    "test_frame = test_frame.drop(index = test_frame[test_frame[\"rougher.input.feed_sol\"] < 1].index,\n",
    "                               axis = 0)\n"
   ]
  },
  {
   "cell_type": "code",
   "execution_count": 77,
   "metadata": {
    "id": "bldWSvYJ5Hpt"
   },
   "outputs": [],
   "source": [
    "train_features_dataset_rougher = without_nan.loc[:,test_frame.columns[1:]]\n",
    "train_target_dataset_rougher = without_nan['rougher.output.recovery']\n",
    "train_features_dataset_final = without_nan.loc[:,list(test_frame.columns[1:])+['rougher.output.recovery']]\n",
    "train_target_dataset_final = without_nan['final.output.recovery']"
   ]
  },
  {
   "cell_type": "markdown",
   "metadata": {
    "id": "0u7D1h_uxI-Y"
   },
   "source": [
    "# 3. Модель"
   ]
  },
  {
   "cell_type": "code",
   "execution_count": 78,
   "metadata": {
    "id": "R7ZAqkRXxI-Y"
   },
   "outputs": [],
   "source": [
    "def sMAPE(y_true,y_pred):\n",
    "    error = np.mean(abs(y_true - y_pred)/((abs(y_true)+abs(y_pred))/2))*100\n",
    "    return error"
   ]
  },
  {
   "cell_type": "code",
   "execution_count": 79,
   "metadata": {},
   "outputs": [],
   "source": [
    "custom_score = make_scorer(sMAPE,greater_is_better=True)"
   ]
  },
  {
   "cell_type": "code",
   "execution_count": null,
   "metadata": {},
   "outputs": [],
   "source": [
    "model_rougher = make_pipeline(StandardScaler(),RandomForestRegressor())\n",
    "model_final = make_pipeline(StandardScaler(),RandomForestRegressor())\n"
   ]
  },
  {
   "cell_type": "code",
   "execution_count": 81,
   "metadata": {},
   "outputs": [],
   "source": [
    "params_RF = {\"randomforestregressor__n_estimators\":[5,100],\n",
    "             \"randomforestregressor__max_depth\":[1,10]}"
   ]
  },
  {
   "cell_type": "code",
   "execution_count": 82,
   "metadata": {},
   "outputs": [],
   "source": [
    "grid_rougher = GridSearchCV(model_rougher,param_grid = params_RF,scoring=custom_score)\n",
    "grid_final = GridSearchCV(model_final,param_grid = params_RF,scoring=custom_score)"
   ]
  },
  {
   "cell_type": "code",
   "execution_count": 85,
   "metadata": {
    "scrolled": true
   },
   "outputs": [
    {
     "data": {
      "text/plain": [
       "GridSearchCV(estimator=Pipeline(steps=[('standardscaler', StandardScaler()),\n",
       "                                       ('randomforestregressor',\n",
       "                                        RandomForestRegressor())]),\n",
       "             param_grid={'randomforestregressor__max_depth': [1, 10],\n",
       "                         'randomforestregressor__n_estimators': [5, 100]},\n",
       "             scoring=make_scorer(sMAPE))"
      ]
     },
     "execution_count": 85,
     "metadata": {},
     "output_type": "execute_result"
    }
   ],
   "source": [
    "grid_rougher.fit(train_features_dataset_rougher,train_target_dataset_rougher)\n",
    "grid_final.fit(train_features_dataset_final,train_target_dataset_rought)"
   ]
  },
  {
   "cell_type": "code",
   "execution_count": 86,
   "metadata": {
    "scrolled": true
   },
   "outputs": [],
   "source": [
    "cross_rougher =  cross_val_score(grid_rougher.best_estimator_,\n",
    "                train_features_dataset_rougher,\n",
    "                train_target_dataset_rougher,\n",
    "                scoring=custom_score)\n",
    "cross_final =  cross_val_score(grid_final.best_estimator_,\n",
    "                train_features_dataset_final,\n",
    "                train_target_dataset_final,\n",
    "                scoring=custom_score)"
   ]
  },
  {
   "cell_type": "code",
   "execution_count": null,
   "metadata": {},
   "outputs": [],
   "source": []
  },
  {
   "cell_type": "markdown",
   "metadata": {
    "id": "QRv722uHxI-c"
   },
   "source": [
    "- [x]  Jupyter Notebook открыт\n",
    "- [ ]  Весь код выполняется без ошибок\n",
    "- [ ]  Ячейки с кодом расположены в порядке выполнения\n",
    "- [ ]  Выполнен шаг 1: данные подготовлены\n",
    "    - [ ]  Проверена формула вычисления эффективности обогащения\n",
    "    - [ ]  Проанализированы признаки, недоступные в тестовой выборке\n",
    "    - [ ]  Проведена предобработка данных\n",
    "- [ ]  Выполнен шаг 2: данные проанализированы\n",
    "    - [ ]  Исследовано изменение концентрации элементов на каждом этапе\n",
    "    - [ ]  Проанализированы распределения размеров гранул на обучающей и тестовой выборках\n",
    "    - [ ]  Исследованы суммарные концентрации\n",
    "    - [ ]  Проанализированы и обработаны аномальные значения\n",
    "- [ ]  Выполнен шаг 3: построена модель прогнозирования\n",
    "    - [ ]  Написана функция для вычисления итогового *sMAPE*\n",
    "    - [ ]  Обучено и проверено несколько моделей\n",
    "    - [ ]  Выбрана лучшая модель, её качество проверено на тестовой выборке"
   ]
  }
 ],
 "metadata": {
  "colab": {
   "collapsed_sections": [],
   "name": "gold_recovery.ipynb",
   "provenance": []
  },
  "kernelspec": {
   "display_name": "Python 3",
   "language": "python",
   "name": "python3"
  },
  "language_info": {
   "codemirror_mode": {
    "name": "ipython",
    "version": 3
   },
   "file_extension": ".py",
   "mimetype": "text/x-python",
   "name": "python",
   "nbconvert_exporter": "python",
   "pygments_lexer": "ipython3",
   "version": "3.8.3"
  }
 },
 "nbformat": 4,
 "nbformat_minor": 1
}
