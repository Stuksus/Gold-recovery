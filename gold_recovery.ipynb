{
 "cells": [
  {
   "cell_type": "markdown",
   "metadata": {},
   "source": [
    "# Описание проекта\n",
    "\n",
    "Подготовьте прототип модели машинного обучения для «Цифры». Компания разрабатывает решения для эффективной работы промышленных предприятий.\n",
    "\n",
    "Модель должна предсказать коэффициент восстановления золота из золотосодержащей руды. В вашем распоряжении данные с параметрами добычи и очистки. \n",
    "\n",
    "Модель поможет оптимизировать производство, чтобы не запускать предприятие с убыточными характеристиками.\n",
    "\n",
    "Вам нужно:\n",
    "\n",
    "1. Подготовить данные;\n",
    "2. Провести исследовательский анализ данных;\n",
    "3. Построить и обучить модель.\n",
    "\n",
    "Чтобы выполнить проект, обращайтесь к библиотекам *pandas*, *matplotlib* и *sklearn.* Вам поможет их документация."
   ]
  },
  {
   "cell_type": "markdown",
   "metadata": {},
   "source": [
    "## Импортирование необходимых библиотек\n"
   ]
  },
  {
   "cell_type": "code",
   "execution_count": 326,
   "metadata": {},
   "outputs": [],
   "source": [
    "import numpy as np\n",
    "import pandas as pd\n",
    "from sklearn.metrics import mean_absolute_error as MAE\n",
    "from sklearn.pipeline import  make_pipeline\n",
    "from sklearn.impute import KNNImputer\n",
    "import matplotlib.pyplot as plt\n",
    "# pd.set_option('max_columns', 800) "
   ]
  },
  {
   "cell_type": "markdown",
   "metadata": {},
   "source": [
    "# 1. Подготовка данных"
   ]
  },
  {
   "cell_type": "code",
   "execution_count": 304,
   "metadata": {},
   "outputs": [],
   "source": [
    "test_frame = pd.read_csv(\"gold_recovery_test.csv\")\n",
    "train_frame = pd.read_csv(\"gold_recovery_train.csv\")\n",
    "full_frame = pd.read_csv(\"gold_recovery_full.csv\")"
   ]
  },
  {
   "cell_type": "code",
   "execution_count": 305,
   "metadata": {
    "scrolled": true
   },
   "outputs": [],
   "source": [
    "# train_frame = train_frame.fillna(1e-100)"
   ]
  },
  {
   "cell_type": "code",
   "execution_count": 306,
   "metadata": {},
   "outputs": [],
   "source": [
    "train_frame = train_frame.replace(float(\"-inf\"),0)"
   ]
  },
  {
   "cell_type": "code",
   "execution_count": 307,
   "metadata": {},
   "outputs": [
    {
     "name": "stdout",
     "output_type": "stream",
     "text": [
      "<class 'pandas.core.frame.DataFrame'>\n",
      "RangeIndex: 16860 entries, 0 to 16859\n",
      "Data columns (total 87 columns):\n",
      " #   Column                                              Non-Null Count  Dtype  \n",
      "---  ------                                              --------------  -----  \n",
      " 0   date                                                16860 non-null  object \n",
      " 1   final.output.concentrate_ag                         16788 non-null  float64\n",
      " 2   final.output.concentrate_pb                         16788 non-null  float64\n",
      " 3   final.output.concentrate_sol                        16490 non-null  float64\n",
      " 4   final.output.concentrate_au                         16789 non-null  float64\n",
      " 5   final.output.recovery                               15339 non-null  float64\n",
      " 6   final.output.tail_ag                                16794 non-null  float64\n",
      " 7   final.output.tail_pb                                16677 non-null  float64\n",
      " 8   final.output.tail_sol                               16715 non-null  float64\n",
      " 9   final.output.tail_au                                16794 non-null  float64\n",
      " 10  primary_cleaner.input.sulfate                       15553 non-null  float64\n",
      " 11  primary_cleaner.input.depressant                    15598 non-null  float64\n",
      " 12  primary_cleaner.input.feed_size                     16860 non-null  float64\n",
      " 13  primary_cleaner.input.xanthate                      15875 non-null  float64\n",
      " 14  primary_cleaner.output.concentrate_ag               16778 non-null  float64\n",
      " 15  primary_cleaner.output.concentrate_pb               16502 non-null  float64\n",
      " 16  primary_cleaner.output.concentrate_sol              16224 non-null  float64\n",
      " 17  primary_cleaner.output.concentrate_au               16778 non-null  float64\n",
      " 18  primary_cleaner.output.tail_ag                      16777 non-null  float64\n",
      " 19  primary_cleaner.output.tail_pb                      16761 non-null  float64\n",
      " 20  primary_cleaner.output.tail_sol                     16579 non-null  float64\n",
      " 21  primary_cleaner.output.tail_au                      16777 non-null  float64\n",
      " 22  primary_cleaner.state.floatbank8_a_air              16820 non-null  float64\n",
      " 23  primary_cleaner.state.floatbank8_a_level            16827 non-null  float64\n",
      " 24  primary_cleaner.state.floatbank8_b_air              16820 non-null  float64\n",
      " 25  primary_cleaner.state.floatbank8_b_level            16833 non-null  float64\n",
      " 26  primary_cleaner.state.floatbank8_c_air              16822 non-null  float64\n",
      " 27  primary_cleaner.state.floatbank8_c_level            16833 non-null  float64\n",
      " 28  primary_cleaner.state.floatbank8_d_air              16821 non-null  float64\n",
      " 29  primary_cleaner.state.floatbank8_d_level            16833 non-null  float64\n",
      " 30  rougher.calculation.sulfate_to_au_concentrate       16833 non-null  float64\n",
      " 31  rougher.calculation.floatbank10_sulfate_to_au_feed  16833 non-null  float64\n",
      " 32  rougher.calculation.floatbank11_sulfate_to_au_feed  16833 non-null  float64\n",
      " 33  rougher.calculation.au_pb_ratio                     15618 non-null  float64\n",
      " 34  rougher.input.feed_ag                               16778 non-null  float64\n",
      " 35  rougher.input.feed_pb                               16632 non-null  float64\n",
      " 36  rougher.input.feed_rate                             16347 non-null  float64\n",
      " 37  rougher.input.feed_size                             16443 non-null  float64\n",
      " 38  rougher.input.feed_sol                              16568 non-null  float64\n",
      " 39  rougher.input.feed_au                               16777 non-null  float64\n",
      " 40  rougher.input.floatbank10_sulfate                   15816 non-null  float64\n",
      " 41  rougher.input.floatbank10_xanthate                  16514 non-null  float64\n",
      " 42  rougher.input.floatbank11_sulfate                   16237 non-null  float64\n",
      " 43  rougher.input.floatbank11_xanthate                  14956 non-null  float64\n",
      " 44  rougher.output.concentrate_ag                       16778 non-null  float64\n",
      " 45  rougher.output.concentrate_pb                       16778 non-null  float64\n",
      " 46  rougher.output.concentrate_sol                      16698 non-null  float64\n",
      " 47  rougher.output.concentrate_au                       16778 non-null  float64\n",
      " 48  rougher.output.recovery                             14287 non-null  float64\n",
      " 49  rougher.output.tail_ag                              14610 non-null  float64\n",
      " 50  rougher.output.tail_pb                              16778 non-null  float64\n",
      " 51  rougher.output.tail_sol                             14611 non-null  float64\n",
      " 52  rougher.output.tail_au                              14611 non-null  float64\n",
      " 53  rougher.state.floatbank10_a_air                     16807 non-null  float64\n",
      " 54  rougher.state.floatbank10_a_level                   16807 non-null  float64\n",
      " 55  rougher.state.floatbank10_b_air                     16807 non-null  float64\n",
      " 56  rougher.state.floatbank10_b_level                   16807 non-null  float64\n",
      " 57  rougher.state.floatbank10_c_air                     16807 non-null  float64\n",
      " 58  rougher.state.floatbank10_c_level                   16814 non-null  float64\n",
      " 59  rougher.state.floatbank10_d_air                     16802 non-null  float64\n",
      " 60  rougher.state.floatbank10_d_level                   16809 non-null  float64\n",
      " 61  rougher.state.floatbank10_e_air                     16257 non-null  float64\n",
      " 62  rougher.state.floatbank10_e_level                   16809 non-null  float64\n",
      " 63  rougher.state.floatbank10_f_air                     16802 non-null  float64\n",
      " 64  rougher.state.floatbank10_f_level                   16802 non-null  float64\n",
      " 65  secondary_cleaner.output.tail_ag                    16776 non-null  float64\n",
      " 66  secondary_cleaner.output.tail_pb                    16764 non-null  float64\n",
      " 67  secondary_cleaner.output.tail_sol                   14874 non-null  float64\n",
      " 68  secondary_cleaner.output.tail_au                    16778 non-null  float64\n",
      " 69  secondary_cleaner.state.floatbank2_a_air            16497 non-null  float64\n",
      " 70  secondary_cleaner.state.floatbank2_a_level          16751 non-null  float64\n",
      " 71  secondary_cleaner.state.floatbank2_b_air            16705 non-null  float64\n",
      " 72  secondary_cleaner.state.floatbank2_b_level          16748 non-null  float64\n",
      " 73  secondary_cleaner.state.floatbank3_a_air            16763 non-null  float64\n",
      " 74  secondary_cleaner.state.floatbank3_a_level          16747 non-null  float64\n",
      " 75  secondary_cleaner.state.floatbank3_b_air            16752 non-null  float64\n",
      " 76  secondary_cleaner.state.floatbank3_b_level          16750 non-null  float64\n",
      " 77  secondary_cleaner.state.floatbank4_a_air            16731 non-null  float64\n",
      " 78  secondary_cleaner.state.floatbank4_a_level          16747 non-null  float64\n",
      " 79  secondary_cleaner.state.floatbank4_b_air            16768 non-null  float64\n",
      " 80  secondary_cleaner.state.floatbank4_b_level          16767 non-null  float64\n",
      " 81  secondary_cleaner.state.floatbank5_a_air            16775 non-null  float64\n",
      " 82  secondary_cleaner.state.floatbank5_a_level          16775 non-null  float64\n",
      " 83  secondary_cleaner.state.floatbank5_b_air            16775 non-null  float64\n",
      " 84  secondary_cleaner.state.floatbank5_b_level          16776 non-null  float64\n",
      " 85  secondary_cleaner.state.floatbank6_a_air            16757 non-null  float64\n",
      " 86  secondary_cleaner.state.floatbank6_a_level          16775 non-null  float64\n",
      "dtypes: float64(86), object(1)\n",
      "memory usage: 11.2+ MB\n"
     ]
    }
   ],
   "source": [
    "train_frame.info()"
   ]
  },
  {
   "cell_type": "code",
   "execution_count": 308,
   "metadata": {},
   "outputs": [],
   "source": [
    "def apply_recovery(row):\n",
    "    (input_au,\n",
    "     output_au,\n",
    "     output_tail) = (row[\"rougher.input.feed_au\"],\n",
    "                     row[\"rougher.output.concentrate_au\"],\n",
    "                     row[\"rougher.output.tail_au\"])\n",
    "    recovery_metric = (((output_au) * ((input_au) - (output_tail)))/\n",
    "                       (((input_au) * ((output_au) - (output_tail))))) * 100\n",
    "    return recovery_metric"
   ]
  },
  {
   "cell_type": "code",
   "execution_count": 347,
   "metadata": {},
   "outputs": [],
   "source": [
    "test = train_frame.dropna(subset = [\"rougher.input.feed_au\",\n",
    "                                    \"rougher.output.concentrate_au\",\n",
    "                                    \"rougher.output.tail_au\",\n",
    "                                    \"rougher.output.recovery\"],axis = 0).apply(\n",
    "                                                                        apply_recovery,axis = 1)"
   ]
  },
  {
   "cell_type": "code",
   "execution_count": 348,
   "metadata": {},
   "outputs": [
    {
     "data": {
      "text/plain": [
       "9.444891926100695e-15"
      ]
     },
     "execution_count": 348,
     "metadata": {},
     "output_type": "execute_result"
    }
   ],
   "source": [
    "MAE(train_frame.dropna(subset = [\"rougher.input.feed_au\",\n",
    "                                    \"rougher.output.concentrate_au\",\n",
    "                                    \"rougher.output.tail_au\",\n",
    "                                    \"rougher.output.recovery\"])[\"rougher.output.recovery\"],\n",
    "                       test)"
   ]
  },
  {
   "cell_type": "markdown",
   "metadata": {},
   "source": [
    "recovery в train рассчитаны верно "
   ]
  },
  {
   "cell_type": "code",
   "execution_count": 311,
   "metadata": {
    "scrolled": true
   },
   "outputs": [],
   "source": [
    "import collections\n",
    "step = collections.Counter()\n",
    "type_step = collections.Counter()\n",
    "data = collections.Counter()\n",
    "list_columns = [i for i in train_frame.columns if i not in test_frame.columns]\n",
    "for i in list_columns:\n",
    "    words = list(map(str,i.split(\".\")))\n",
    "    step[words[0]] += 1\n",
    "    type_step[words[1]] += 1\n",
    "    data[words[2]] += 1\n",
    "    "
   ]
  },
  {
   "cell_type": "code",
   "execution_count": 312,
   "metadata": {
    "scrolled": true
   },
   "outputs": [
    {
     "data": {
      "text/plain": [
       "['final.output.concentrate_ag',\n",
       " 'final.output.concentrate_pb',\n",
       " 'final.output.concentrate_sol',\n",
       " 'final.output.concentrate_au',\n",
       " 'final.output.recovery',\n",
       " 'final.output.tail_ag',\n",
       " 'final.output.tail_pb',\n",
       " 'final.output.tail_sol',\n",
       " 'final.output.tail_au',\n",
       " 'primary_cleaner.output.concentrate_ag',\n",
       " 'primary_cleaner.output.concentrate_pb',\n",
       " 'primary_cleaner.output.concentrate_sol',\n",
       " 'primary_cleaner.output.concentrate_au',\n",
       " 'primary_cleaner.output.tail_ag',\n",
       " 'primary_cleaner.output.tail_pb',\n",
       " 'primary_cleaner.output.tail_sol',\n",
       " 'primary_cleaner.output.tail_au',\n",
       " 'rougher.calculation.sulfate_to_au_concentrate',\n",
       " 'rougher.calculation.floatbank10_sulfate_to_au_feed',\n",
       " 'rougher.calculation.floatbank11_sulfate_to_au_feed',\n",
       " 'rougher.calculation.au_pb_ratio',\n",
       " 'rougher.output.concentrate_ag',\n",
       " 'rougher.output.concentrate_pb',\n",
       " 'rougher.output.concentrate_sol',\n",
       " 'rougher.output.concentrate_au',\n",
       " 'rougher.output.recovery',\n",
       " 'rougher.output.tail_ag',\n",
       " 'rougher.output.tail_pb',\n",
       " 'rougher.output.tail_sol',\n",
       " 'rougher.output.tail_au',\n",
       " 'secondary_cleaner.output.tail_ag',\n",
       " 'secondary_cleaner.output.tail_pb',\n",
       " 'secondary_cleaner.output.tail_sol',\n",
       " 'secondary_cleaner.output.tail_au']"
      ]
     },
     "execution_count": 312,
     "metadata": {},
     "output_type": "execute_result"
    }
   ],
   "source": [
    "list_columns"
   ]
  },
  {
   "cell_type": "code",
   "execution_count": 313,
   "metadata": {
    "scrolled": true
   },
   "outputs": [
    {
     "data": {
      "text/plain": [
       "(Counter({'final': 9,\n",
       "          'primary_cleaner': 8,\n",
       "          'rougher': 13,\n",
       "          'secondary_cleaner': 4}),\n",
       " '\\n',\n",
       " Counter({'output': 30, 'calculation': 4}),\n",
       " '\\n',\n",
       " Counter({'concentrate_ag': 3,\n",
       "          'concentrate_pb': 3,\n",
       "          'concentrate_sol': 3,\n",
       "          'concentrate_au': 3,\n",
       "          'recovery': 2,\n",
       "          'tail_ag': 4,\n",
       "          'tail_pb': 4,\n",
       "          'tail_sol': 4,\n",
       "          'tail_au': 4,\n",
       "          'sulfate_to_au_concentrate': 1,\n",
       "          'floatbank10_sulfate_to_au_feed': 1,\n",
       "          'floatbank11_sulfate_to_au_feed': 1,\n",
       "          'au_pb_ratio': 1}))"
      ]
     },
     "execution_count": 313,
     "metadata": {},
     "output_type": "execute_result"
    }
   ],
   "source": [
    "step,\"\\n\",type_step,\"\\n\",data"
   ]
  },
  {
   "cell_type": "markdown",
   "metadata": {},
   "source": [
    "Заметим, что из 34 пропущенных признака 30 относятся к параметрам продукта и только 4 к рассчетным характеристикам  \n",
    "\n",
    "1. 9 пропущенных признаков этапа final, 8 primary_cleaner, 9 rougher, 4 secondary_cleaner относятся к параметрам продукта\n",
    "1. 4 пропущенных признака этапа rougher относятся к рассчетным характеристикам\n",
    "1. На всех этапах отсутсвует информация о хвостовых частях\n",
    "1. Во всех этапах, кроме повтороной очистки отсутсвует информация о доле металлов \n",
    "1. У финального этапа и этапа флотации отсутсвуют признаки обогащения\n",
    "1. Так же остутсвуют данные о некоторых реогентах на этапе флотации\n"
   ]
  },
  {
   "cell_type": "markdown",
   "metadata": {},
   "source": [
    "проверим можем ли мы востановить згначения обогащения"
   ]
  },
  {
   "cell_type": "code",
   "execution_count": 314,
   "metadata": {},
   "outputs": [],
   "source": [
    "index_notnull_params = list(train_frame.dropna(subset=[\"rougher.input.feed_au\",\n",
    "                                    \"rougher.output.concentrate_au\",\n",
    "                                    \"rougher.output.tail_au\",\n",
    "                                    \"rougher.output.recovery\"]).index)\n",
    "index_notnull_recovery = list(train_frame.dropna(subset = [\"rougher.output.recovery\"]).index)"
   ]
  },
  {
   "cell_type": "code",
   "execution_count": 341,
   "metadata": {},
   "outputs": [],
   "source": [
    "imputer = KNNImputer()\n",
    "without_nan = pd.DataFrame(data = imputer.fit_transform(train_frame.drop(['date'],axis = 1)),\n",
    "             columns= train_frame.drop(['date'],axis = 1).columns,\n",
    "             index = train_frame.drop(['date'],axis = 1).index)"
   ]
  },
  {
   "cell_type": "code",
   "execution_count": 349,
   "metadata": {},
   "outputs": [
    {
     "name": "stderr",
     "output_type": "stream",
     "text": [
      "<ipython-input-308-50ae60c07c9c>:7: RuntimeWarning: invalid value encountered in double_scalars\n",
      "  recovery_metric = (((output_au) * ((input_au) - (output_tail)))/\n",
      "<ipython-input-308-50ae60c07c9c>:7: RuntimeWarning: divide by zero encountered in double_scalars\n",
      "  recovery_metric = (((output_au) * ((input_au) - (output_tail)))/\n"
     ]
    }
   ],
   "source": [
    "test = without_nan.dropna(subset = [\"rougher.input.feed_au\",\n",
    "                                    \"rougher.output.concentrate_au\",\n",
    "                                    \"rougher.output.tail_au\",\n",
    "                                    \"rougher.output.recovery\"],axis = 0).apply(\n",
    "                                                                        apply_recovery,axis = 1)"
   ]
  },
  {
   "cell_type": "code",
   "execution_count": 342,
   "metadata": {},
   "outputs": [],
   "source": [
    "def remove_ouliers(frame,column):\n",
    "    q25=np.array(frame[column].quantile(0.25))\n",
    "    \n",
    "    q75=np.array(frame[column].quantile(0.75))\n",
    "    first_part=q25-1*(q75-q25)\n",
    "    second_part=q75+1*(q75-q25)\n",
    "    del_index = []\n",
    "    for index_value, value in zip(frame[column].index,frame[column]):\n",
    "        if second_part <= value or value <= first_part:\n",
    "            del_index.append(index_value)\n",
    "    \n",
    "    print('Количество строк, выбранных для удаления: ',len(del_index))\n",
    "    return del_index"
   ]
  },
  {
   "cell_type": "code",
   "execution_count": null,
   "metadata": {},
   "outputs": [],
   "source": [
    "without_nan_nan"
   ]
  },
  {
   "cell_type": "code",
   "execution_count": 339,
   "metadata": {},
   "outputs": [
    {
     "name": "stdout",
     "output_type": "stream",
     "text": [
      "Количество строк, выбранных для удаления:  246\n",
      "Количество строк, выбранных для удаления:  1\n",
      "Количество строк, выбранных для удаления:  90\n",
      "Количество строк, выбранных для удаления:  1899\n",
      "Количество строк, выбранных для удаления:  172\n",
      "Количество строк, выбранных для удаления:  62\n",
      "Количество строк, выбранных для удаления:  1\n",
      "Количество строк, выбранных для удаления:  258\n",
      "Количество строк, выбранных для удаления:  215\n",
      "Количество строк, выбранных для удаления:  0\n",
      "Количество строк, выбранных для удаления:  0\n",
      "Количество строк, выбранных для удаления:  34\n",
      "Количество строк, выбранных для удаления:  16\n",
      "Количество строк, выбранных для удаления:  0\n",
      "Количество строк, выбранных для удаления:  0\n",
      "Количество строк, выбранных для удаления:  0\n",
      "Количество строк, выбранных для удаления:  281\n",
      "Количество строк, выбранных для удаления:  18\n",
      "Количество строк, выбранных для удаления:  56\n",
      "Количество строк, выбранных для удаления:  8\n",
      "Количество строк, выбранных для удаления:  242\n",
      "Количество строк, выбранных для удаления:  24\n",
      "Количество строк, выбранных для удаления:  1688\n",
      "Количество строк, выбранных для удаления:  0\n",
      "Количество строк, выбранных для удаления:  259\n",
      "Количество строк, выбранных для удаления:  0\n",
      "Количество строк, выбранных для удаления:  804\n",
      "Количество строк, выбранных для удаления:  299\n",
      "Количество строк, выбранных для удаления:  1155\n",
      "Количество строк, выбранных для удаления:  108\n",
      "Количество строк, выбранных для удаления:  450\n",
      "Количество строк, выбранных для удаления:  171\n",
      "Количество строк, выбранных для удаления:  147\n",
      "Количество строк, выбранных для удаления:  0\n",
      "Количество строк, выбранных для удаления:  0\n",
      "Количество строк, выбранных для удаления:  0\n",
      "Количество строк, выбранных для удаления:  88\n",
      "Количество строк, выбранных для удаления:  30\n",
      "Количество строк, выбранных для удаления:  0\n",
      "Количество строк, выбранных для удаления:  26\n",
      "Количество строк, выбранных для удаления:  0\n",
      "Количество строк, выбранных для удаления:  0\n",
      "Количество строк, выбранных для удаления:  0\n",
      "Количество строк, выбранных для удаления:  4\n",
      "Количество строк, выбранных для удаления:  53\n",
      "Количество строк, выбранных для удаления:  150\n",
      "Количество строк, выбранных для удаления:  21\n",
      "Количество строк, выбранных для удаления:  4\n",
      "Количество строк, выбранных для удаления:  1\n",
      "Количество строк, выбранных для удаления:  41\n",
      "Количество строк, выбранных для удаления:  4\n",
      "Количество строк, выбранных для удаления:  9\n",
      "Количество строк, выбранных для удаления:  0\n",
      "Количество строк, выбранных для удаления:  0\n",
      "Количество строк, выбранных для удаления:  0\n",
      "Количество строк, выбранных для удаления:  0\n",
      "Количество строк, выбранных для удаления:  20\n",
      "Количество строк, выбранных для удаления:  0\n",
      "Количество строк, выбранных для удаления:  0\n",
      "Количество строк, выбранных для удаления:  0\n",
      "Количество строк, выбранных для удаления:  1\n",
      "Количество строк, выбранных для удаления:  0\n",
      "Количество строк, выбранных для удаления:  96\n",
      "Количество строк, выбранных для удаления:  0\n",
      "Количество строк, выбранных для удаления:  0\n",
      "Количество строк, выбранных для удаления:  3\n",
      "Количество строк, выбранных для удаления:  0\n",
      "Количество строк, выбранных для удаления:  196\n",
      "Количество строк, выбранных для удаления:  0\n",
      "Количество строк, выбранных для удаления:  1107\n",
      "Количество строк, выбранных для удаления:  0\n",
      "Количество строк, выбранных для удаления:  160\n",
      "Количество строк, выбранных для удаления:  0\n",
      "Количество строк, выбранных для удаления:  1590\n",
      "Количество строк, выбранных для удаления:  0\n",
      "Количество строк, выбранных для удаления:  255\n",
      "Количество строк, выбранных для удаления:  0\n",
      "Количество строк, выбранных для удаления:  340\n",
      "Количество строк, выбранных для удаления:  0\n",
      "Количество строк, выбранных для удаления:  841\n",
      "Количество строк, выбранных для удаления:  0\n",
      "Количество строк, выбранных для удаления:  75\n",
      "Количество строк, выбранных для удаления:  0\n",
      "Количество строк, выбранных для удаления:  56\n",
      "Количество строк, выбранных для удаления:  0\n",
      "Количество строк, выбранных для удаления:  316\n"
     ]
    }
   ],
   "source": [
    "for column in without_nan.columns:\n",
    "    indexes = remove_ouliers(without_nan,column)\n",
    "    without_nan.drop(indexes,axis = 0,inplace = True)\n",
    "# for column in without_nan.columns:\n",
    "#     plt.boxplot(without_nan[column])\n",
    "#     plt.show()"
   ]
  },
  {
   "cell_type": "code",
   "execution_count": 340,
   "metadata": {},
   "outputs": [
    {
     "name": "stdout",
     "output_type": "stream",
     "text": [
      "<class 'pandas.core.frame.DataFrame'>\n",
      "Int64Index: 2669 entries, 355 to 16444\n",
      "Data columns (total 86 columns):\n",
      " #   Column                                              Non-Null Count  Dtype  \n",
      "---  ------                                              --------------  -----  \n",
      " 0   final.output.concentrate_ag                         2669 non-null   float64\n",
      " 1   final.output.concentrate_pb                         2669 non-null   float64\n",
      " 2   final.output.concentrate_sol                        2669 non-null   float64\n",
      " 3   final.output.concentrate_au                         2669 non-null   float64\n",
      " 4   final.output.recovery                               2669 non-null   float64\n",
      " 5   final.output.tail_ag                                2669 non-null   float64\n",
      " 6   final.output.tail_pb                                2669 non-null   float64\n",
      " 7   final.output.tail_sol                               2669 non-null   float64\n",
      " 8   final.output.tail_au                                2669 non-null   float64\n",
      " 9   primary_cleaner.input.sulfate                       2669 non-null   float64\n",
      " 10  primary_cleaner.input.depressant                    2669 non-null   float64\n",
      " 11  primary_cleaner.input.feed_size                     2669 non-null   float64\n",
      " 12  primary_cleaner.input.xanthate                      2669 non-null   float64\n",
      " 13  primary_cleaner.output.concentrate_ag               2669 non-null   float64\n",
      " 14  primary_cleaner.output.concentrate_pb               2669 non-null   float64\n",
      " 15  primary_cleaner.output.concentrate_sol              2669 non-null   float64\n",
      " 16  primary_cleaner.output.concentrate_au               2669 non-null   float64\n",
      " 17  primary_cleaner.output.tail_ag                      2669 non-null   float64\n",
      " 18  primary_cleaner.output.tail_pb                      2669 non-null   float64\n",
      " 19  primary_cleaner.output.tail_sol                     2669 non-null   float64\n",
      " 20  primary_cleaner.output.tail_au                      2669 non-null   float64\n",
      " 21  primary_cleaner.state.floatbank8_a_air              2669 non-null   float64\n",
      " 22  primary_cleaner.state.floatbank8_a_level            2669 non-null   float64\n",
      " 23  primary_cleaner.state.floatbank8_b_air              2669 non-null   float64\n",
      " 24  primary_cleaner.state.floatbank8_b_level            2669 non-null   float64\n",
      " 25  primary_cleaner.state.floatbank8_c_air              2669 non-null   float64\n",
      " 26  primary_cleaner.state.floatbank8_c_level            2669 non-null   float64\n",
      " 27  primary_cleaner.state.floatbank8_d_air              2669 non-null   float64\n",
      " 28  primary_cleaner.state.floatbank8_d_level            2669 non-null   float64\n",
      " 29  rougher.calculation.sulfate_to_au_concentrate       2669 non-null   float64\n",
      " 30  rougher.calculation.floatbank10_sulfate_to_au_feed  2669 non-null   float64\n",
      " 31  rougher.calculation.floatbank11_sulfate_to_au_feed  2669 non-null   float64\n",
      " 32  rougher.calculation.au_pb_ratio                     2669 non-null   float64\n",
      " 33  rougher.input.feed_ag                               2669 non-null   float64\n",
      " 34  rougher.input.feed_pb                               2669 non-null   float64\n",
      " 35  rougher.input.feed_rate                             2669 non-null   float64\n",
      " 36  rougher.input.feed_size                             2669 non-null   float64\n",
      " 37  rougher.input.feed_sol                              2669 non-null   float64\n",
      " 38  rougher.input.feed_au                               2669 non-null   float64\n",
      " 39  rougher.input.floatbank10_sulfate                   2669 non-null   float64\n",
      " 40  rougher.input.floatbank10_xanthate                  2669 non-null   float64\n",
      " 41  rougher.input.floatbank11_sulfate                   2669 non-null   float64\n",
      " 42  rougher.input.floatbank11_xanthate                  2669 non-null   float64\n",
      " 43  rougher.output.concentrate_ag                       2669 non-null   float64\n",
      " 44  rougher.output.concentrate_pb                       2669 non-null   float64\n",
      " 45  rougher.output.concentrate_sol                      2669 non-null   float64\n",
      " 46  rougher.output.concentrate_au                       2669 non-null   float64\n",
      " 47  rougher.output.recovery                             2669 non-null   float64\n",
      " 48  rougher.output.tail_ag                              2669 non-null   float64\n",
      " 49  rougher.output.tail_pb                              2669 non-null   float64\n",
      " 50  rougher.output.tail_sol                             2669 non-null   float64\n",
      " 51  rougher.output.tail_au                              2669 non-null   float64\n",
      " 52  rougher.state.floatbank10_a_air                     2669 non-null   float64\n",
      " 53  rougher.state.floatbank10_a_level                   2669 non-null   float64\n",
      " 54  rougher.state.floatbank10_b_air                     2669 non-null   float64\n",
      " 55  rougher.state.floatbank10_b_level                   2669 non-null   float64\n",
      " 56  rougher.state.floatbank10_c_air                     2669 non-null   float64\n",
      " 57  rougher.state.floatbank10_c_level                   2669 non-null   float64\n",
      " 58  rougher.state.floatbank10_d_air                     2669 non-null   float64\n",
      " 59  rougher.state.floatbank10_d_level                   2669 non-null   float64\n",
      " 60  rougher.state.floatbank10_e_air                     2669 non-null   float64\n",
      " 61  rougher.state.floatbank10_e_level                   2669 non-null   float64\n",
      " 62  rougher.state.floatbank10_f_air                     2669 non-null   float64\n",
      " 63  rougher.state.floatbank10_f_level                   2669 non-null   float64\n",
      " 64  secondary_cleaner.output.tail_ag                    2669 non-null   float64\n",
      " 65  secondary_cleaner.output.tail_pb                    2669 non-null   float64\n",
      " 66  secondary_cleaner.output.tail_sol                   2669 non-null   float64\n",
      " 67  secondary_cleaner.output.tail_au                    2669 non-null   float64\n",
      " 68  secondary_cleaner.state.floatbank2_a_air            2669 non-null   float64\n",
      " 69  secondary_cleaner.state.floatbank2_a_level          2669 non-null   float64\n",
      " 70  secondary_cleaner.state.floatbank2_b_air            2669 non-null   float64\n",
      " 71  secondary_cleaner.state.floatbank2_b_level          2669 non-null   float64\n",
      " 72  secondary_cleaner.state.floatbank3_a_air            2669 non-null   float64\n",
      " 73  secondary_cleaner.state.floatbank3_a_level          2669 non-null   float64\n",
      " 74  secondary_cleaner.state.floatbank3_b_air            2669 non-null   float64\n",
      " 75  secondary_cleaner.state.floatbank3_b_level          2669 non-null   float64\n",
      " 76  secondary_cleaner.state.floatbank4_a_air            2669 non-null   float64\n",
      " 77  secondary_cleaner.state.floatbank4_a_level          2669 non-null   float64\n",
      " 78  secondary_cleaner.state.floatbank4_b_air            2669 non-null   float64\n",
      " 79  secondary_cleaner.state.floatbank4_b_level          2669 non-null   float64\n",
      " 80  secondary_cleaner.state.floatbank5_a_air            2669 non-null   float64\n",
      " 81  secondary_cleaner.state.floatbank5_a_level          2669 non-null   float64\n",
      " 82  secondary_cleaner.state.floatbank5_b_air            2669 non-null   float64\n",
      " 83  secondary_cleaner.state.floatbank5_b_level          2669 non-null   float64\n",
      " 84  secondary_cleaner.state.floatbank6_a_air            2669 non-null   float64\n",
      " 85  secondary_cleaner.state.floatbank6_a_level          2669 non-null   float64\n",
      "dtypes: float64(86)\n",
      "memory usage: 1.8 MB\n"
     ]
    }
   ],
   "source": [
    "without_nan.info()"
   ]
  },
  {
   "cell_type": "code",
   "execution_count": 316,
   "metadata": {},
   "outputs": [
    {
     "name": "stdout",
     "output_type": "stream",
     "text": [
      "<class 'pandas.core.frame.DataFrame'>\n",
      "RangeIndex: 16860 entries, 0 to 16859\n",
      "Data columns (total 87 columns):\n",
      " #   Column                                              Non-Null Count  Dtype  \n",
      "---  ------                                              --------------  -----  \n",
      " 0   date                                                16860 non-null  object \n",
      " 1   final.output.concentrate_ag                         16788 non-null  float64\n",
      " 2   final.output.concentrate_pb                         16788 non-null  float64\n",
      " 3   final.output.concentrate_sol                        16490 non-null  float64\n",
      " 4   final.output.concentrate_au                         16789 non-null  float64\n",
      " 5   final.output.recovery                               15339 non-null  float64\n",
      " 6   final.output.tail_ag                                16794 non-null  float64\n",
      " 7   final.output.tail_pb                                16677 non-null  float64\n",
      " 8   final.output.tail_sol                               16715 non-null  float64\n",
      " 9   final.output.tail_au                                16794 non-null  float64\n",
      " 10  primary_cleaner.input.sulfate                       15553 non-null  float64\n",
      " 11  primary_cleaner.input.depressant                    15598 non-null  float64\n",
      " 12  primary_cleaner.input.feed_size                     16860 non-null  float64\n",
      " 13  primary_cleaner.input.xanthate                      15875 non-null  float64\n",
      " 14  primary_cleaner.output.concentrate_ag               16778 non-null  float64\n",
      " 15  primary_cleaner.output.concentrate_pb               16502 non-null  float64\n",
      " 16  primary_cleaner.output.concentrate_sol              16224 non-null  float64\n",
      " 17  primary_cleaner.output.concentrate_au               16778 non-null  float64\n",
      " 18  primary_cleaner.output.tail_ag                      16777 non-null  float64\n",
      " 19  primary_cleaner.output.tail_pb                      16761 non-null  float64\n",
      " 20  primary_cleaner.output.tail_sol                     16579 non-null  float64\n",
      " 21  primary_cleaner.output.tail_au                      16777 non-null  float64\n",
      " 22  primary_cleaner.state.floatbank8_a_air              16820 non-null  float64\n",
      " 23  primary_cleaner.state.floatbank8_a_level            16827 non-null  float64\n",
      " 24  primary_cleaner.state.floatbank8_b_air              16820 non-null  float64\n",
      " 25  primary_cleaner.state.floatbank8_b_level            16833 non-null  float64\n",
      " 26  primary_cleaner.state.floatbank8_c_air              16822 non-null  float64\n",
      " 27  primary_cleaner.state.floatbank8_c_level            16833 non-null  float64\n",
      " 28  primary_cleaner.state.floatbank8_d_air              16821 non-null  float64\n",
      " 29  primary_cleaner.state.floatbank8_d_level            16833 non-null  float64\n",
      " 30  rougher.calculation.sulfate_to_au_concentrate       16833 non-null  float64\n",
      " 31  rougher.calculation.floatbank10_sulfate_to_au_feed  16833 non-null  float64\n",
      " 32  rougher.calculation.floatbank11_sulfate_to_au_feed  16833 non-null  float64\n",
      " 33  rougher.calculation.au_pb_ratio                     15618 non-null  float64\n",
      " 34  rougher.input.feed_ag                               16778 non-null  float64\n",
      " 35  rougher.input.feed_pb                               16632 non-null  float64\n",
      " 36  rougher.input.feed_rate                             16347 non-null  float64\n",
      " 37  rougher.input.feed_size                             16443 non-null  float64\n",
      " 38  rougher.input.feed_sol                              16568 non-null  float64\n",
      " 39  rougher.input.feed_au                               16777 non-null  float64\n",
      " 40  rougher.input.floatbank10_sulfate                   15816 non-null  float64\n",
      " 41  rougher.input.floatbank10_xanthate                  16514 non-null  float64\n",
      " 42  rougher.input.floatbank11_sulfate                   16237 non-null  float64\n",
      " 43  rougher.input.floatbank11_xanthate                  14956 non-null  float64\n",
      " 44  rougher.output.concentrate_ag                       16778 non-null  float64\n",
      " 45  rougher.output.concentrate_pb                       16778 non-null  float64\n",
      " 46  rougher.output.concentrate_sol                      16698 non-null  float64\n",
      " 47  rougher.output.concentrate_au                       16778 non-null  float64\n",
      " 48  rougher.output.recovery                             14287 non-null  float64\n",
      " 49  rougher.output.tail_ag                              14610 non-null  float64\n",
      " 50  rougher.output.tail_pb                              16778 non-null  float64\n",
      " 51  rougher.output.tail_sol                             14611 non-null  float64\n",
      " 52  rougher.output.tail_au                              14611 non-null  float64\n",
      " 53  rougher.state.floatbank10_a_air                     16807 non-null  float64\n",
      " 54  rougher.state.floatbank10_a_level                   16807 non-null  float64\n",
      " 55  rougher.state.floatbank10_b_air                     16807 non-null  float64\n",
      " 56  rougher.state.floatbank10_b_level                   16807 non-null  float64\n",
      " 57  rougher.state.floatbank10_c_air                     16807 non-null  float64\n",
      " 58  rougher.state.floatbank10_c_level                   16814 non-null  float64\n",
      " 59  rougher.state.floatbank10_d_air                     16802 non-null  float64\n",
      " 60  rougher.state.floatbank10_d_level                   16809 non-null  float64\n",
      " 61  rougher.state.floatbank10_e_air                     16257 non-null  float64\n",
      " 62  rougher.state.floatbank10_e_level                   16809 non-null  float64\n",
      " 63  rougher.state.floatbank10_f_air                     16802 non-null  float64\n",
      " 64  rougher.state.floatbank10_f_level                   16802 non-null  float64\n",
      " 65  secondary_cleaner.output.tail_ag                    16776 non-null  float64\n",
      " 66  secondary_cleaner.output.tail_pb                    16764 non-null  float64\n",
      " 67  secondary_cleaner.output.tail_sol                   14874 non-null  float64\n",
      " 68  secondary_cleaner.output.tail_au                    16778 non-null  float64\n",
      " 69  secondary_cleaner.state.floatbank2_a_air            16497 non-null  float64\n",
      " 70  secondary_cleaner.state.floatbank2_a_level          16751 non-null  float64\n",
      " 71  secondary_cleaner.state.floatbank2_b_air            16705 non-null  float64\n",
      " 72  secondary_cleaner.state.floatbank2_b_level          16748 non-null  float64\n",
      " 73  secondary_cleaner.state.floatbank3_a_air            16763 non-null  float64\n",
      " 74  secondary_cleaner.state.floatbank3_a_level          16747 non-null  float64\n",
      " 75  secondary_cleaner.state.floatbank3_b_air            16752 non-null  float64\n",
      " 76  secondary_cleaner.state.floatbank3_b_level          16750 non-null  float64\n",
      " 77  secondary_cleaner.state.floatbank4_a_air            16731 non-null  float64\n",
      " 78  secondary_cleaner.state.floatbank4_a_level          16747 non-null  float64\n",
      " 79  secondary_cleaner.state.floatbank4_b_air            16768 non-null  float64\n",
      " 80  secondary_cleaner.state.floatbank4_b_level          16767 non-null  float64\n",
      " 81  secondary_cleaner.state.floatbank5_a_air            16775 non-null  float64\n",
      " 82  secondary_cleaner.state.floatbank5_a_level          16775 non-null  float64\n",
      " 83  secondary_cleaner.state.floatbank5_b_air            16775 non-null  float64\n",
      " 84  secondary_cleaner.state.floatbank5_b_level          16776 non-null  float64\n",
      " 85  secondary_cleaner.state.floatbank6_a_air            16757 non-null  float64\n",
      " 86  secondary_cleaner.state.floatbank6_a_level          16775 non-null  float64\n",
      "dtypes: float64(86), object(1)\n",
      "memory usage: 11.2+ MB\n"
     ]
    }
   ],
   "source": [
    "train_frame.info()"
   ]
  },
  {
   "cell_type": "markdown",
   "metadata": {},
   "source": [
    "# 2. Анализ данных"
   ]
  },
  {
   "cell_type": "markdown",
   "metadata": {},
   "source": [
    "# 3. Модель"
   ]
  },
  {
   "cell_type": "code",
   "execution_count": null,
   "metadata": {},
   "outputs": [],
   "source": []
  },
  {
   "cell_type": "markdown",
   "metadata": {},
   "source": [
    "- [x]  Jupyter Notebook открыт\n",
    "- [ ]  Весь код выполняется без ошибок\n",
    "- [ ]  Ячейки с кодом расположены в порядке выполнения\n",
    "- [ ]  Выполнен шаг 1: данные подготовлены\n",
    "    - [ ]  Проверена формула вычисления эффективности обогащения\n",
    "    - [ ]  Проанализированы признаки, недоступные в тестовой выборке\n",
    "    - [ ]  Проведена предобработка данных\n",
    "- [ ]  Выполнен шаг 2: данные проанализированы\n",
    "    - [ ]  Исследовано изменение концентрации элементов на каждом этапе\n",
    "    - [ ]  Проанализированы распределения размеров гранул на обучающей и тестовой выборках\n",
    "    - [ ]  Исследованы суммарные концентрации\n",
    "    - [ ]  Проанализированы и обработаны аномальные значения\n",
    "- [ ]  Выполнен шаг 3: построена модель прогнозирования\n",
    "    - [ ]  Написана функция для вычисления итогового *sMAPE*\n",
    "    - [ ]  Обучено и проверено несколько моделей\n",
    "    - [ ]  Выбрана лучшая модель, её качество проверено на тестовой выборке"
   ]
  }
 ],
 "metadata": {
  "kernelspec": {
   "display_name": "Python 3",
   "language": "python",
   "name": "python3"
  },
  "language_info": {
   "codemirror_mode": {
    "name": "ipython",
    "version": 3
   },
   "file_extension": ".py",
   "mimetype": "text/x-python",
   "name": "python",
   "nbconvert_exporter": "python",
   "pygments_lexer": "ipython3",
   "version": "3.8.3"
  }
 },
 "nbformat": 4,
 "nbformat_minor": 2
}
